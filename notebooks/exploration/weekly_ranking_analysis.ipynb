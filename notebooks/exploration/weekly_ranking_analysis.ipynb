{
 "cells": [
  {
   "cell_type": "code",
   "execution_count": 2,
   "id": "initial_id",
   "metadata": {
    "collapsed": true,
    "ExecuteTime": {
     "end_time": "2024-01-04T20:34:03.282547800Z",
     "start_time": "2024-01-04T20:34:02.724252900Z"
    }
   },
   "outputs": [
    {
     "data": {
      "text/plain": "           game_id  season game_type  week     gameday weekday gametime  \\\n0  1999_01_MIN_ATL    1999       REG     1  1999-09-12  Sunday      NaN   \n1   1999_01_KC_CHI    1999       REG     1  1999-09-12  Sunday      NaN   \n2  1999_01_PIT_CLE    1999       REG     1  1999-09-12  Sunday      NaN   \n3   1999_01_OAK_GB    1999       REG     1  1999-09-12  Sunday      NaN   \n4  1999_01_BUF_IND    1999       REG     1  1999-09-12  Sunday      NaN   \n\n  away_team  away_score home_team  ...  wind  away_qb_id  home_qb_id  \\\n0       MIN        17.0       ATL  ...   NaN  00-0003761  00-0002876   \n1        KC        17.0       CHI  ...  12.0  00-0006300  00-0010560   \n2       PIT        43.0       CLE  ...  12.0  00-0015700  00-0004230   \n3       OAK        24.0        GB  ...  10.0  00-0005741  00-0005106   \n4       BUF        14.0       IND  ...   NaN  00-0005363  00-0010346   \n\n         away_qb_name    home_qb_name          away_coach    home_coach  \\\n0  Randall Cunningham  Chris Chandler        Dennis Green    Dan Reeves   \n1         Elvis Grbac  Shane Matthews  Gunther Cunningham   Dick Jauron   \n2     Kordell Stewart       Ty Detmer         Bill Cowher  Chris Palmer   \n3         Rich Gannon     Brett Favre          Jon Gruden    Ray Rhodes   \n4         Doug Flutie  Peyton Manning       Wade Phillips      Jim Mora   \n\n         referee stadium_id                   stadium  \n0   Gerry Austin      ATL00              Georgia Dome  \n1   Phil Luckett      CHI98             Soldier Field  \n2    Bob McElwee      CLE00  Cleveland Browns Stadium  \n3  Tony Corrente      GNB00             Lambeau Field  \n4       Ron Blum      IND99                  RCA Dome  \n\n[5 rows x 46 columns]",
      "text/html": "<div>\n<style scoped>\n    .dataframe tbody tr th:only-of-type {\n        vertical-align: middle;\n    }\n\n    .dataframe tbody tr th {\n        vertical-align: top;\n    }\n\n    .dataframe thead th {\n        text-align: right;\n    }\n</style>\n<table border=\"1\" class=\"dataframe\">\n  <thead>\n    <tr style=\"text-align: right;\">\n      <th></th>\n      <th>game_id</th>\n      <th>season</th>\n      <th>game_type</th>\n      <th>week</th>\n      <th>gameday</th>\n      <th>weekday</th>\n      <th>gametime</th>\n      <th>away_team</th>\n      <th>away_score</th>\n      <th>home_team</th>\n      <th>...</th>\n      <th>wind</th>\n      <th>away_qb_id</th>\n      <th>home_qb_id</th>\n      <th>away_qb_name</th>\n      <th>home_qb_name</th>\n      <th>away_coach</th>\n      <th>home_coach</th>\n      <th>referee</th>\n      <th>stadium_id</th>\n      <th>stadium</th>\n    </tr>\n  </thead>\n  <tbody>\n    <tr>\n      <th>0</th>\n      <td>1999_01_MIN_ATL</td>\n      <td>1999</td>\n      <td>REG</td>\n      <td>1</td>\n      <td>1999-09-12</td>\n      <td>Sunday</td>\n      <td>NaN</td>\n      <td>MIN</td>\n      <td>17.0</td>\n      <td>ATL</td>\n      <td>...</td>\n      <td>NaN</td>\n      <td>00-0003761</td>\n      <td>00-0002876</td>\n      <td>Randall Cunningham</td>\n      <td>Chris Chandler</td>\n      <td>Dennis Green</td>\n      <td>Dan Reeves</td>\n      <td>Gerry Austin</td>\n      <td>ATL00</td>\n      <td>Georgia Dome</td>\n    </tr>\n    <tr>\n      <th>1</th>\n      <td>1999_01_KC_CHI</td>\n      <td>1999</td>\n      <td>REG</td>\n      <td>1</td>\n      <td>1999-09-12</td>\n      <td>Sunday</td>\n      <td>NaN</td>\n      <td>KC</td>\n      <td>17.0</td>\n      <td>CHI</td>\n      <td>...</td>\n      <td>12.0</td>\n      <td>00-0006300</td>\n      <td>00-0010560</td>\n      <td>Elvis Grbac</td>\n      <td>Shane Matthews</td>\n      <td>Gunther Cunningham</td>\n      <td>Dick Jauron</td>\n      <td>Phil Luckett</td>\n      <td>CHI98</td>\n      <td>Soldier Field</td>\n    </tr>\n    <tr>\n      <th>2</th>\n      <td>1999_01_PIT_CLE</td>\n      <td>1999</td>\n      <td>REG</td>\n      <td>1</td>\n      <td>1999-09-12</td>\n      <td>Sunday</td>\n      <td>NaN</td>\n      <td>PIT</td>\n      <td>43.0</td>\n      <td>CLE</td>\n      <td>...</td>\n      <td>12.0</td>\n      <td>00-0015700</td>\n      <td>00-0004230</td>\n      <td>Kordell Stewart</td>\n      <td>Ty Detmer</td>\n      <td>Bill Cowher</td>\n      <td>Chris Palmer</td>\n      <td>Bob McElwee</td>\n      <td>CLE00</td>\n      <td>Cleveland Browns Stadium</td>\n    </tr>\n    <tr>\n      <th>3</th>\n      <td>1999_01_OAK_GB</td>\n      <td>1999</td>\n      <td>REG</td>\n      <td>1</td>\n      <td>1999-09-12</td>\n      <td>Sunday</td>\n      <td>NaN</td>\n      <td>OAK</td>\n      <td>24.0</td>\n      <td>GB</td>\n      <td>...</td>\n      <td>10.0</td>\n      <td>00-0005741</td>\n      <td>00-0005106</td>\n      <td>Rich Gannon</td>\n      <td>Brett Favre</td>\n      <td>Jon Gruden</td>\n      <td>Ray Rhodes</td>\n      <td>Tony Corrente</td>\n      <td>GNB00</td>\n      <td>Lambeau Field</td>\n    </tr>\n    <tr>\n      <th>4</th>\n      <td>1999_01_BUF_IND</td>\n      <td>1999</td>\n      <td>REG</td>\n      <td>1</td>\n      <td>1999-09-12</td>\n      <td>Sunday</td>\n      <td>NaN</td>\n      <td>BUF</td>\n      <td>14.0</td>\n      <td>IND</td>\n      <td>...</td>\n      <td>NaN</td>\n      <td>00-0005363</td>\n      <td>00-0010346</td>\n      <td>Doug Flutie</td>\n      <td>Peyton Manning</td>\n      <td>Wade Phillips</td>\n      <td>Jim Mora</td>\n      <td>Ron Blum</td>\n      <td>IND99</td>\n      <td>RCA Dome</td>\n    </tr>\n  </tbody>\n</table>\n<p>5 rows × 46 columns</p>\n</div>"
     },
     "execution_count": 2,
     "metadata": {},
     "output_type": "execute_result"
    }
   ],
   "source": [
    "import nfl_data_py as nfl\n",
    "\n",
    "seasons = list(range(1999, 2023 + 1, 1))\n",
    "schedule_df = nfl.import_schedules(seasons)\n",
    "schedule_df.head()"
   ]
  },
  {
   "cell_type": "code",
   "execution_count": 8,
   "outputs": [
    {
     "data": {
      "text/plain": "258     STL\n517     BAL\n776      NE\n1043     TB\n1310     NE\n1577     NE\n1844    PIT\n2111    IND\n2378    NYG\n2645    PIT\n2912     NO\n3179     GB\n3446    NYG\n3713    BAL\n3980    SEA\n4247     NE\n4514    DEN\n4781     NE\n5048    PHI\n5315     NE\n5582     KC\n5851     TB\n6136     LA\n6420     KC\nName: winner, dtype: object"
     },
     "execution_count": 8,
     "metadata": {},
     "output_type": "execute_result"
    }
   ],
   "source": [
    "import numpy as np\n",
    "\n",
    "schedule_df['winner'] = np.where(schedule_df['result'] > 0, schedule_df['home_team'], schedule_df['away_team'])\n",
    "schedule_df.loc[~schedule_df['game_type'].isin(['REG', 'WC', 'DIV', 'CON']), 'winner']"
   ],
   "metadata": {
    "collapsed": false,
    "ExecuteTime": {
     "end_time": "2024-01-04T20:39:22.311239Z",
     "start_time": "2024-01-04T20:39:22.260720400Z"
    }
   },
   "id": "9f5a1dc30374e5bf"
  },
  {
   "cell_type": "code",
   "execution_count": null,
   "outputs": [],
   "source": [
    "import time\n",
    "\n",
    "import pandas as pd\n",
    "import requests\n",
    "from bs4 import BeautifulSoup, Comment\n",
    "\n",
    "\n",
    "class PFRStats:\n",
    "    def __init__(self, base_url=\"https://www.pro-football-reference.com\"):\n",
    "        self.base_url = base_url\n",
    "        self.off_columns = ['O_Rank', 'Team', 'O_Games_Played', 'O_Points_For', 'O_Total_Yards',\n",
    "                            'O_Plays', 'O_Y/Play', 'O_TO', 'O_Fumbles_Lost',\n",
    "                            'O_1st_D', 'O_P_Completions', 'O_P_Attempts', 'O_P_Yards', 'O_P_TD',\n",
    "                            'O_P_Int', 'O_P_Y/PA', 'O_P_Passing_1st_D', 'O_R_Att', 'O_R_Yards',\n",
    "                            'O_R_TD', 'O_R_Y/A', 'O_R_1st_D', 'O_Pe', 'O_Pe_Yards',\n",
    "                            'O_Pe_1st_D', 'O_Scoring_Drives', 'O_TO_%', 'O_Expected_Points', 'Year']\n",
    "        self.def_columns = ['D_Rank', 'Team', 'D_Games_Played', 'D_Points_Allowed', 'D_Total_Yards',\n",
    "                            'D_Plays', 'D_Y/Play', 'D_TD', 'D_Fumbles_Lost', 'D_1st_D', 'D_P_Completions',\n",
    "                            'D_P_Attempts', 'D_P_Yards', 'D_P_TD', 'D_P_Int', 'D_P_Y/PA', 'D_P_Passing_1st_D',\n",
    "                            'D_R_Att', 'D_R_Yards', 'D_R_TD', 'D_R_Y/A', 'D_R_1st_D', 'D_Pe', 'D_Pe_Yards',\n",
    "                            'D_Pe_1st_D', 'D_Scoring_Drives', 'D_TD_%', 'D_Expected_Points', 'Year']\n",
    "        self.adjusted_columns = ['O_Points_For', 'O_Total_Yards',\n",
    "                                 'O_Plays', 'O_TO', 'O_Fumbles_Lost', 'O_1st_D',\n",
    "                                 'O_P_Completions', 'O_P_Attempts', 'O_P_Yards', 'O_P_TD', 'O_P_Int',\n",
    "                                 'O_P_Passing_1st_D', 'O_R_Att', 'O_R_Yards', 'O_R_TD',\n",
    "                                 'O_R_1st_D', 'O_Pe', 'O_Pe_Yards', 'O_Pe_1st_D',\n",
    "                                 'O_Scoring_Drives', 'O_Expected_Points',\n",
    "                                 'D_Games_Played', 'D_Points_Allowed', 'D_Total_Yards', 'D_Plays',\n",
    "                                 'D_TD', 'D_Fumbles_Lost', 'D_1st_D', 'D_P_Completions',\n",
    "                                 'D_P_Attempts', 'D_P_Yards', 'D_P_TD', 'D_P_Int',\n",
    "                                 'D_P_Passing_1st_D', 'D_R_Att', 'D_R_Yards', 'D_R_TD',\n",
    "                                 'D_R_1st_D', 'D_Pe', 'D_Pe_Yards', 'D_Pe_1st_D', 'D_Scoring_Drives',\n",
    "                                 'D_Expected_Points']\n",
    "\n",
    "    @staticmethod\n",
    "    def parse_html_table(table, header=0):\n",
    "        return pd.read_html(str(table), header=header)[0]\n",
    "\n",
    "    def import_table(self, table_id, prefix, header=0):\n",
    "        soup = BeautifulSoup(requests.get(self.base_url + prefix).content, 'html.parser')\n",
    "        if table_id.startswith(\"#\"):\n",
    "            table = soup.select_one(table_id).find_next(text=lambda t: isinstance(t, Comment))\n",
    "        else:\n",
    "            table = soup.find('table', id=table_id)\n",
    "\n",
    "        return self.parse_html_table(table, header=header)\n",
    "\n",
    "    @staticmethod\n",
    "    def set_column_type(df, col, dtype):\n",
    "        return df[col].astype(dtype)\n",
    "\n",
    "    def import_superbowl_winners(self, table_id=\"super_bowls\", prefix=\"/super-bowl/\"):\n",
    "        df = self.import_table(table_id, prefix, header=0)\n",
    "        df['Date'] = pd.to_datetime(df['Date'])\n",
    "        df['Year'] = pd.DatetimeIndex(df['Date']).year\n",
    "        return df\n",
    "\n",
    "    @staticmethod\n",
    "    def append_superbowl_winners(df, sb_df):\n",
    "        df['Superbowl'] = 0\n",
    "        sb_df = sb_df[['Year', 'Winner']]\n",
    "        sb_df.Year = sb_df.Year.astype('int')\n",
    "        sb_df['Year'] = sb_df['Year'] - 1\n",
    "        sb_df['Superbowl'] = 1\n",
    "        test_df = pd.merge(df, sb_df, left_on=['Year', 'Team'], right_on=['Year', 'Winner'], how='left')\n",
    "        test_df.drop(['Superbowl_x', 'Winner'], axis=1, inplace=True)\n",
    "        test_df.Superbowl_y = test_df.Superbowl_y.fillna(0)\n",
    "        test_df.Superbowl_y = test_df.Superbowl_y.astype('int')\n",
    "        test_df.rename(columns={'Superbowl_y': 'Superbowl'}, inplace=True)\n",
    "\n",
    "        return test_df\n",
    "\n",
    "    def import_all_team_stats_off_table(self, season, table_id=\"#all_team_stats\", prefix=r\"/years/{}\"):\n",
    "        return self.import_table(table_id, prefix.format(season), header=1)\n",
    "\n",
    "    def import_all_team_stats_def_table(self, season, table_id=\"team_stats\", prefix=r\"/years/{}/opp.htm\"):\n",
    "        return self.import_table(table_id, prefix.format(season), header=1)\n",
    "\n",
    "    def batch_import_all_team_stats_table(self, seasons, delay=5):\n",
    "        off_dfs = []\n",
    "        def_dfs = []\n",
    "        for season in seasons:\n",
    "            off_df = self.import_table(table_id=\"#all_team_stats\", prefix=f\"/years/{season}\", header=1)[0:31]\n",
    "            off_df['Year'] = season\n",
    "            off_df.columns = self.off_columns\n",
    "            off_dfs.append(off_df)\n",
    "            def_df = self.import_table(table_id=\"team_stats\", prefix=f\"/years/{season}/opp.htm\", header=1)[0:31]\n",
    "            def_df['Year'] = season\n",
    "            def_df.columns = self.def_columns\n",
    "            def_dfs.append(def_df)\n",
    "\n",
    "            time.sleep(delay)\n",
    "\n",
    "        dfs = off_dfs + def_dfs\n",
    "        data = pd.concat(dfs)\n",
    "        data[self.adjusted_columns] = self.set_column_type(data, self.adjusted_columns, 'float')\n",
    "        data[['O_Rank', 'D_Rank', 'O_Games_Played', 'Year']] = self.set_column_type(data, ['O_Rank', 'D_Rank',\n",
    "                                                                                           'O_Games_Played', 'Year'],\n",
    "                                                                                    'int')\n",
    "\n",
    "        return data"
   ],
   "metadata": {
    "collapsed": false
   },
   "id": "e7a7cb498a6802c8"
  },
  {
   "cell_type": "code",
   "execution_count": 18,
   "outputs": [
    {
     "name": "stdout",
     "output_type": "stream",
     "text": [
      "Downcasting floats.\n"
     ]
    },
    {
     "data": {
      "text/plain": "   play_id          game_id old_game_id home_team away_team season_type  week  \\\n0     35.0  1999_01_ARI_PHI  1999091200       PHI       ARI         REG     1   \n1     60.0  1999_01_ARI_PHI  1999091200       PHI       ARI         REG     1   \n2     82.0  1999_01_ARI_PHI  1999091200       PHI       ARI         REG     1   \n3    103.0  1999_01_ARI_PHI  1999091200       PHI       ARI         REG     1   \n4    126.0  1999_01_ARI_PHI  1999091200       PHI       ARI         REG     1   \n\n  posteam posteam_type defteam  ... out_of_bounds  home_opening_kickoff  \\\n0     PHI         home     ARI  ...           0.0                   1.0   \n1     PHI         home     ARI  ...           0.0                   1.0   \n2     PHI         home     ARI  ...           0.0                   1.0   \n3     PHI         home     ARI  ...           0.0                   1.0   \n4     PHI         home     ARI  ...           0.0                   1.0   \n\n     qb_epa  xyac_epa  xyac_mean_yardage  xyac_median_yardage xyac_success  \\\n0  0.126818       NaN                NaN                  NaN          NaN   \n1 -0.561568       NaN                NaN                  NaN          NaN   \n2 -0.641717       NaN                NaN                  NaN          NaN   \n3 -0.723302       NaN                NaN                  NaN          NaN   \n4  0.212661       NaN                NaN                  NaN          NaN   \n\n   xyac_fd  xpass  pass_oe  \n0      NaN    NaN      NaN  \n1      NaN    NaN      NaN  \n2      NaN    NaN      NaN  \n3      NaN    NaN      NaN  \n4      NaN    NaN      NaN  \n\n[5 rows x 372 columns]",
      "text/html": "<div>\n<style scoped>\n    .dataframe tbody tr th:only-of-type {\n        vertical-align: middle;\n    }\n\n    .dataframe tbody tr th {\n        vertical-align: top;\n    }\n\n    .dataframe thead th {\n        text-align: right;\n    }\n</style>\n<table border=\"1\" class=\"dataframe\">\n  <thead>\n    <tr style=\"text-align: right;\">\n      <th></th>\n      <th>play_id</th>\n      <th>game_id</th>\n      <th>old_game_id</th>\n      <th>home_team</th>\n      <th>away_team</th>\n      <th>season_type</th>\n      <th>week</th>\n      <th>posteam</th>\n      <th>posteam_type</th>\n      <th>defteam</th>\n      <th>...</th>\n      <th>out_of_bounds</th>\n      <th>home_opening_kickoff</th>\n      <th>qb_epa</th>\n      <th>xyac_epa</th>\n      <th>xyac_mean_yardage</th>\n      <th>xyac_median_yardage</th>\n      <th>xyac_success</th>\n      <th>xyac_fd</th>\n      <th>xpass</th>\n      <th>pass_oe</th>\n    </tr>\n  </thead>\n  <tbody>\n    <tr>\n      <th>0</th>\n      <td>35.0</td>\n      <td>1999_01_ARI_PHI</td>\n      <td>1999091200</td>\n      <td>PHI</td>\n      <td>ARI</td>\n      <td>REG</td>\n      <td>1</td>\n      <td>PHI</td>\n      <td>home</td>\n      <td>ARI</td>\n      <td>...</td>\n      <td>0.0</td>\n      <td>1.0</td>\n      <td>0.126818</td>\n      <td>NaN</td>\n      <td>NaN</td>\n      <td>NaN</td>\n      <td>NaN</td>\n      <td>NaN</td>\n      <td>NaN</td>\n      <td>NaN</td>\n    </tr>\n    <tr>\n      <th>1</th>\n      <td>60.0</td>\n      <td>1999_01_ARI_PHI</td>\n      <td>1999091200</td>\n      <td>PHI</td>\n      <td>ARI</td>\n      <td>REG</td>\n      <td>1</td>\n      <td>PHI</td>\n      <td>home</td>\n      <td>ARI</td>\n      <td>...</td>\n      <td>0.0</td>\n      <td>1.0</td>\n      <td>-0.561568</td>\n      <td>NaN</td>\n      <td>NaN</td>\n      <td>NaN</td>\n      <td>NaN</td>\n      <td>NaN</td>\n      <td>NaN</td>\n      <td>NaN</td>\n    </tr>\n    <tr>\n      <th>2</th>\n      <td>82.0</td>\n      <td>1999_01_ARI_PHI</td>\n      <td>1999091200</td>\n      <td>PHI</td>\n      <td>ARI</td>\n      <td>REG</td>\n      <td>1</td>\n      <td>PHI</td>\n      <td>home</td>\n      <td>ARI</td>\n      <td>...</td>\n      <td>0.0</td>\n      <td>1.0</td>\n      <td>-0.641717</td>\n      <td>NaN</td>\n      <td>NaN</td>\n      <td>NaN</td>\n      <td>NaN</td>\n      <td>NaN</td>\n      <td>NaN</td>\n      <td>NaN</td>\n    </tr>\n    <tr>\n      <th>3</th>\n      <td>103.0</td>\n      <td>1999_01_ARI_PHI</td>\n      <td>1999091200</td>\n      <td>PHI</td>\n      <td>ARI</td>\n      <td>REG</td>\n      <td>1</td>\n      <td>PHI</td>\n      <td>home</td>\n      <td>ARI</td>\n      <td>...</td>\n      <td>0.0</td>\n      <td>1.0</td>\n      <td>-0.723302</td>\n      <td>NaN</td>\n      <td>NaN</td>\n      <td>NaN</td>\n      <td>NaN</td>\n      <td>NaN</td>\n      <td>NaN</td>\n      <td>NaN</td>\n    </tr>\n    <tr>\n      <th>4</th>\n      <td>126.0</td>\n      <td>1999_01_ARI_PHI</td>\n      <td>1999091200</td>\n      <td>PHI</td>\n      <td>ARI</td>\n      <td>REG</td>\n      <td>1</td>\n      <td>PHI</td>\n      <td>home</td>\n      <td>ARI</td>\n      <td>...</td>\n      <td>0.0</td>\n      <td>1.0</td>\n      <td>0.212661</td>\n      <td>NaN</td>\n      <td>NaN</td>\n      <td>NaN</td>\n      <td>NaN</td>\n      <td>NaN</td>\n      <td>NaN</td>\n      <td>NaN</td>\n    </tr>\n  </tbody>\n</table>\n<p>5 rows × 372 columns</p>\n</div>"
     },
     "execution_count": 18,
     "metadata": {},
     "output_type": "execute_result"
    }
   ],
   "source": [
    "pbp_data = nfl.import_pbp_data(seasons, thread_requests=True)\n",
    "pbp_data.head()"
   ],
   "metadata": {
    "collapsed": false,
    "ExecuteTime": {
     "end_time": "2024-01-04T20:50:03.666287100Z",
     "start_time": "2024-01-04T20:49:51.289705Z"
    }
   },
   "id": "adac199ffc09415"
  },
  {
   "cell_type": "code",
   "execution_count": 20,
   "outputs": [
    {
     "data": {
      "text/plain": "  team_abbr          team_name  team_id  team_nick team_conf team_division  \\\n0       ARI  Arizona Cardinals     3800  Cardinals       NFC      NFC West   \n1       ATL    Atlanta Falcons      200    Falcons       NFC     NFC South   \n2       BAL   Baltimore Ravens      325     Ravens       AFC     AFC North   \n3       BUF      Buffalo Bills      610      Bills       AFC      AFC East   \n4       CAR  Carolina Panthers      750   Panthers       NFC     NFC South   \n\n  team_color team_color2 team_color3 team_color4  \\\n0    #97233F     #000000     #ffb612     #a5acaf   \n1    #A71930     #000000     #a5acaf     #a30d2d   \n2    #241773     #9E7C0C     #9e7c0c     #c60c30   \n3    #00338D     #C60C30     #0c2e82     #d50a0a   \n4    #0085CA     #000000     #bfc0bf     #0085ca   \n\n                                 team_logo_wikipedia  \\\n0  https://upload.wikimedia.org/wikipedia/en/thum...   \n1  https://upload.wikimedia.org/wikipedia/en/thum...   \n2  https://upload.wikimedia.org/wikipedia/en/thum...   \n3  https://upload.wikimedia.org/wikipedia/en/thum...   \n4  https://upload.wikimedia.org/wikipedia/en/thum...   \n\n                                      team_logo_espn  \\\n0  https://a.espncdn.com/i/teamlogos/nfl/500/ari.png   \n1  https://a.espncdn.com/i/teamlogos/nfl/500/atl.png   \n2  https://a.espncdn.com/i/teamlogos/nfl/500/bal.png   \n3  https://a.espncdn.com/i/teamlogos/nfl/500/buf.png   \n4  https://a.espncdn.com/i/teamlogos/nfl/500-dark...   \n\n                                       team_wordmark  \\\n0  https://github.com/nflverse/nflverse-pbp/raw/m...   \n1  https://github.com/nflverse/nflverse-pbp/raw/m...   \n2  https://github.com/nflverse/nflverse-pbp/raw/m...   \n3  https://github.com/nflverse/nflverse-pbp/raw/m...   \n4  https://github.com/nflverse/nflverse-pbp/raw/m...   \n\n                                team_conference_logo  \\\n0  https://github.com/nflverse/nflverse-pbp/raw/m...   \n1  https://github.com/nflverse/nflverse-pbp/raw/m...   \n2  https://github.com/nflverse/nflverse-pbp/raw/m...   \n3  https://github.com/nflverse/nflverse-pbp/raw/m...   \n4  https://github.com/nflverse/nflverse-pbp/raw/m...   \n\n                                    team_league_logo  \\\n0  https://raw.githubusercontent.com/nflverse/nfl...   \n1  https://raw.githubusercontent.com/nflverse/nfl...   \n2  https://raw.githubusercontent.com/nflverse/nfl...   \n3  https://raw.githubusercontent.com/nflverse/nfl...   \n4  https://raw.githubusercontent.com/nflverse/nfl...   \n\n                                   team_logo_squared  \n0  https://github.com/nflverse/nflverse-pbp/raw/m...  \n1  https://github.com/nflverse/nflverse-pbp/raw/m...  \n2  https://github.com/nflverse/nflverse-pbp/raw/m...  \n3  https://github.com/nflverse/nflverse-pbp/raw/m...  \n4  https://github.com/nflverse/nflverse-pbp/raw/m...  ",
      "text/html": "<div>\n<style scoped>\n    .dataframe tbody tr th:only-of-type {\n        vertical-align: middle;\n    }\n\n    .dataframe tbody tr th {\n        vertical-align: top;\n    }\n\n    .dataframe thead th {\n        text-align: right;\n    }\n</style>\n<table border=\"1\" class=\"dataframe\">\n  <thead>\n    <tr style=\"text-align: right;\">\n      <th></th>\n      <th>team_abbr</th>\n      <th>team_name</th>\n      <th>team_id</th>\n      <th>team_nick</th>\n      <th>team_conf</th>\n      <th>team_division</th>\n      <th>team_color</th>\n      <th>team_color2</th>\n      <th>team_color3</th>\n      <th>team_color4</th>\n      <th>team_logo_wikipedia</th>\n      <th>team_logo_espn</th>\n      <th>team_wordmark</th>\n      <th>team_conference_logo</th>\n      <th>team_league_logo</th>\n      <th>team_logo_squared</th>\n    </tr>\n  </thead>\n  <tbody>\n    <tr>\n      <th>0</th>\n      <td>ARI</td>\n      <td>Arizona Cardinals</td>\n      <td>3800</td>\n      <td>Cardinals</td>\n      <td>NFC</td>\n      <td>NFC West</td>\n      <td>#97233F</td>\n      <td>#000000</td>\n      <td>#ffb612</td>\n      <td>#a5acaf</td>\n      <td>https://upload.wikimedia.org/wikipedia/en/thum...</td>\n      <td>https://a.espncdn.com/i/teamlogos/nfl/500/ari.png</td>\n      <td>https://github.com/nflverse/nflverse-pbp/raw/m...</td>\n      <td>https://github.com/nflverse/nflverse-pbp/raw/m...</td>\n      <td>https://raw.githubusercontent.com/nflverse/nfl...</td>\n      <td>https://github.com/nflverse/nflverse-pbp/raw/m...</td>\n    </tr>\n    <tr>\n      <th>1</th>\n      <td>ATL</td>\n      <td>Atlanta Falcons</td>\n      <td>200</td>\n      <td>Falcons</td>\n      <td>NFC</td>\n      <td>NFC South</td>\n      <td>#A71930</td>\n      <td>#000000</td>\n      <td>#a5acaf</td>\n      <td>#a30d2d</td>\n      <td>https://upload.wikimedia.org/wikipedia/en/thum...</td>\n      <td>https://a.espncdn.com/i/teamlogos/nfl/500/atl.png</td>\n      <td>https://github.com/nflverse/nflverse-pbp/raw/m...</td>\n      <td>https://github.com/nflverse/nflverse-pbp/raw/m...</td>\n      <td>https://raw.githubusercontent.com/nflverse/nfl...</td>\n      <td>https://github.com/nflverse/nflverse-pbp/raw/m...</td>\n    </tr>\n    <tr>\n      <th>2</th>\n      <td>BAL</td>\n      <td>Baltimore Ravens</td>\n      <td>325</td>\n      <td>Ravens</td>\n      <td>AFC</td>\n      <td>AFC North</td>\n      <td>#241773</td>\n      <td>#9E7C0C</td>\n      <td>#9e7c0c</td>\n      <td>#c60c30</td>\n      <td>https://upload.wikimedia.org/wikipedia/en/thum...</td>\n      <td>https://a.espncdn.com/i/teamlogos/nfl/500/bal.png</td>\n      <td>https://github.com/nflverse/nflverse-pbp/raw/m...</td>\n      <td>https://github.com/nflverse/nflverse-pbp/raw/m...</td>\n      <td>https://raw.githubusercontent.com/nflverse/nfl...</td>\n      <td>https://github.com/nflverse/nflverse-pbp/raw/m...</td>\n    </tr>\n    <tr>\n      <th>3</th>\n      <td>BUF</td>\n      <td>Buffalo Bills</td>\n      <td>610</td>\n      <td>Bills</td>\n      <td>AFC</td>\n      <td>AFC East</td>\n      <td>#00338D</td>\n      <td>#C60C30</td>\n      <td>#0c2e82</td>\n      <td>#d50a0a</td>\n      <td>https://upload.wikimedia.org/wikipedia/en/thum...</td>\n      <td>https://a.espncdn.com/i/teamlogos/nfl/500/buf.png</td>\n      <td>https://github.com/nflverse/nflverse-pbp/raw/m...</td>\n      <td>https://github.com/nflverse/nflverse-pbp/raw/m...</td>\n      <td>https://raw.githubusercontent.com/nflverse/nfl...</td>\n      <td>https://github.com/nflverse/nflverse-pbp/raw/m...</td>\n    </tr>\n    <tr>\n      <th>4</th>\n      <td>CAR</td>\n      <td>Carolina Panthers</td>\n      <td>750</td>\n      <td>Panthers</td>\n      <td>NFC</td>\n      <td>NFC South</td>\n      <td>#0085CA</td>\n      <td>#000000</td>\n      <td>#bfc0bf</td>\n      <td>#0085ca</td>\n      <td>https://upload.wikimedia.org/wikipedia/en/thum...</td>\n      <td>https://a.espncdn.com/i/teamlogos/nfl/500-dark...</td>\n      <td>https://github.com/nflverse/nflverse-pbp/raw/m...</td>\n      <td>https://github.com/nflverse/nflverse-pbp/raw/m...</td>\n      <td>https://raw.githubusercontent.com/nflverse/nfl...</td>\n      <td>https://github.com/nflverse/nflverse-pbp/raw/m...</td>\n    </tr>\n  </tbody>\n</table>\n</div>"
     },
     "execution_count": 20,
     "metadata": {},
     "output_type": "execute_result"
    }
   ],
   "source": [
    "teams = nfl.import_team_desc()\n",
    "teams.head()"
   ],
   "metadata": {
    "collapsed": false,
    "ExecuteTime": {
     "end_time": "2024-01-04T20:52:02.620776500Z",
     "start_time": "2024-01-04T20:52:02.355933400Z"
    }
   },
   "id": "53b2332f0735a35e"
  },
  {
   "cell_type": "code",
   "execution_count": 22,
   "outputs": [
    {
     "ename": "ValueError",
     "evalue": "Can only compare identically-labeled Series objects",
     "output_type": "error",
     "traceback": [
      "\u001B[0;31m---------------------------------------------------------------------------\u001B[0m",
      "\u001B[0;31mValueError\u001B[0m                                Traceback (most recent call last)",
      "Cell \u001B[0;32mIn[22], line 4\u001B[0m\n\u001B[1;32m      2\u001B[0m test_season \u001B[38;5;241m=\u001B[39m \u001B[38;5;241m2022\u001B[39m\n\u001B[1;32m      3\u001B[0m team_stats_2022[\u001B[38;5;124m'\u001B[39m\u001B[38;5;124mseason\u001B[39m\u001B[38;5;124m'\u001B[39m] \u001B[38;5;241m=\u001B[39m test_season\n\u001B[0;32m----> 4\u001B[0m team_stats_2022[\u001B[38;5;124m'\u001B[39m\u001B[38;5;124mgames_played\u001B[39m\u001B[38;5;124m'\u001B[39m] \u001B[38;5;241m=\u001B[39m schedule_df\u001B[38;5;241m.\u001B[39mloc[(schedule_df[\u001B[38;5;124m'\u001B[39m\u001B[38;5;124mseason\u001B[39m\u001B[38;5;124m'\u001B[39m] \u001B[38;5;241m==\u001B[39m test_season) \u001B[38;5;241m&\u001B[39m ((\u001B[43mschedule_df\u001B[49m\u001B[43m[\u001B[49m\u001B[38;5;124;43m'\u001B[39;49m\u001B[38;5;124;43mhome_team\u001B[39;49m\u001B[38;5;124;43m'\u001B[39;49m\u001B[43m]\u001B[49m\u001B[43m \u001B[49m\u001B[38;5;241;43m==\u001B[39;49m\u001B[43m \u001B[49m\u001B[43mteam_stats_2022\u001B[49m\u001B[43m[\u001B[49m\u001B[38;5;124;43m'\u001B[39;49m\u001B[38;5;124;43mteam_abbr\u001B[39;49m\u001B[38;5;124;43m'\u001B[39;49m\u001B[43m]\u001B[49m) \u001B[38;5;241m|\u001B[39m schedule_df[\u001B[38;5;124m'\u001B[39m\u001B[38;5;124maway_team\u001B[39m\u001B[38;5;124m'\u001B[39m] \u001B[38;5;241m==\u001B[39m team_stats_2022[\u001B[38;5;124m'\u001B[39m\u001B[38;5;124mteam_abbr\u001B[39m\u001B[38;5;124m'\u001B[39m])]\u001B[38;5;241m.\u001B[39mcount()\n\u001B[1;32m      5\u001B[0m team_stats_2022[\u001B[38;5;124m'\u001B[39m\u001B[38;5;124mgames_played\u001B[39m\u001B[38;5;124m'\u001B[39m]\n",
      "File \u001B[0;32m~/.virtualenvs/nfl-data-models/lib/python3.10/site-packages/pandas/core/ops/common.py:76\u001B[0m, in \u001B[0;36m_unpack_zerodim_and_defer.<locals>.new_method\u001B[0;34m(self, other)\u001B[0m\n\u001B[1;32m     72\u001B[0m             \u001B[38;5;28;01mreturn\u001B[39;00m \u001B[38;5;28mNotImplemented\u001B[39m\n\u001B[1;32m     74\u001B[0m other \u001B[38;5;241m=\u001B[39m item_from_zerodim(other)\n\u001B[0;32m---> 76\u001B[0m \u001B[38;5;28;01mreturn\u001B[39;00m \u001B[43mmethod\u001B[49m\u001B[43m(\u001B[49m\u001B[38;5;28;43mself\u001B[39;49m\u001B[43m,\u001B[49m\u001B[43m \u001B[49m\u001B[43mother\u001B[49m\u001B[43m)\u001B[49m\n",
      "File \u001B[0;32m~/.virtualenvs/nfl-data-models/lib/python3.10/site-packages/pandas/core/arraylike.py:40\u001B[0m, in \u001B[0;36mOpsMixin.__eq__\u001B[0;34m(self, other)\u001B[0m\n\u001B[1;32m     38\u001B[0m \u001B[38;5;129m@unpack_zerodim_and_defer\u001B[39m(\u001B[38;5;124m\"\u001B[39m\u001B[38;5;124m__eq__\u001B[39m\u001B[38;5;124m\"\u001B[39m)\n\u001B[1;32m     39\u001B[0m \u001B[38;5;28;01mdef\u001B[39;00m \u001B[38;5;21m__eq__\u001B[39m(\u001B[38;5;28mself\u001B[39m, other):\n\u001B[0;32m---> 40\u001B[0m     \u001B[38;5;28;01mreturn\u001B[39;00m \u001B[38;5;28;43mself\u001B[39;49m\u001B[38;5;241;43m.\u001B[39;49m\u001B[43m_cmp_method\u001B[49m\u001B[43m(\u001B[49m\u001B[43mother\u001B[49m\u001B[43m,\u001B[49m\u001B[43m \u001B[49m\u001B[43moperator\u001B[49m\u001B[38;5;241;43m.\u001B[39;49m\u001B[43meq\u001B[49m\u001B[43m)\u001B[49m\n",
      "File \u001B[0;32m~/.virtualenvs/nfl-data-models/lib/python3.10/site-packages/pandas/core/series.py:5794\u001B[0m, in \u001B[0;36mSeries._cmp_method\u001B[0;34m(self, other, op)\u001B[0m\n\u001B[1;32m   5791\u001B[0m res_name \u001B[38;5;241m=\u001B[39m ops\u001B[38;5;241m.\u001B[39mget_op_result_name(\u001B[38;5;28mself\u001B[39m, other)\n\u001B[1;32m   5793\u001B[0m \u001B[38;5;28;01mif\u001B[39;00m \u001B[38;5;28misinstance\u001B[39m(other, Series) \u001B[38;5;129;01mand\u001B[39;00m \u001B[38;5;129;01mnot\u001B[39;00m \u001B[38;5;28mself\u001B[39m\u001B[38;5;241m.\u001B[39m_indexed_same(other):\n\u001B[0;32m-> 5794\u001B[0m     \u001B[38;5;28;01mraise\u001B[39;00m \u001B[38;5;167;01mValueError\u001B[39;00m(\u001B[38;5;124m\"\u001B[39m\u001B[38;5;124mCan only compare identically-labeled Series objects\u001B[39m\u001B[38;5;124m\"\u001B[39m)\n\u001B[1;32m   5796\u001B[0m lvalues \u001B[38;5;241m=\u001B[39m \u001B[38;5;28mself\u001B[39m\u001B[38;5;241m.\u001B[39m_values\n\u001B[1;32m   5797\u001B[0m rvalues \u001B[38;5;241m=\u001B[39m extract_array(other, extract_numpy\u001B[38;5;241m=\u001B[39m\u001B[38;5;28;01mTrue\u001B[39;00m, extract_range\u001B[38;5;241m=\u001B[39m\u001B[38;5;28;01mTrue\u001B[39;00m)\n",
      "\u001B[0;31mValueError\u001B[0m: Can only compare identically-labeled Series objects"
     ]
    }
   ],
   "source": [
    "team_stats_2022 = teams\n",
    "test_season = 2022\n",
    "team_stats_2022['season'] = test_season\n",
    "team_stats_2022['games_played'] = team_stats_2022.apply(lambda row: row['team_abbr'] if)\n",
    "team_stats_2022['games_played']"
   ],
   "metadata": {
    "collapsed": false,
    "ExecuteTime": {
     "end_time": "2024-01-04T20:58:42.218124600Z",
     "start_time": "2024-01-04T20:58:42.197973300Z"
    }
   },
   "id": "cd6d04fec298c286"
  },
  {
   "cell_type": "code",
   "execution_count": 58,
   "outputs": [
    {
     "data": {
      "text/plain": "   team  home_games  away_games  games_played\n0   ARI           9           8            17\n1   ATL           9           8            17\n2   BAL           8           9            17\n3   BUF           8           8            16\n4   CAR           9           8            17\n5   CHI           9           8            17\n6   CIN           7           9            16\n7   CLE           8           9            17\n8   DAL           9           8            17\n9   DEN           8           9            17\n10  DET           9           8            17\n11   GB           9           8            17\n12  HOU           8           9            17\n13  IND           8           9            17\n14  JAX           8           9            17\n15   KC           8           9            17\n16   LA           9           8            17\n17  LAC           8           9            17\n18   LV           8           9            17\n19  MIA           8           9            17\n20  MIN           9           8            17\n21   NE           8           9            17\n22   NO           9           8            17\n23  NYG           9           8            17\n24  NYJ           8           9            17\n25  PHI           9           8            17\n26  PIT           8           9            17\n27  SEA           9           8            17\n28   SF           9           8            17\n29   TB           9           8            17\n30  TEN           8           9            17\n31  WAS           9           8            17",
      "text/html": "<div>\n<style scoped>\n    .dataframe tbody tr th:only-of-type {\n        vertical-align: middle;\n    }\n\n    .dataframe tbody tr th {\n        vertical-align: top;\n    }\n\n    .dataframe thead th {\n        text-align: right;\n    }\n</style>\n<table border=\"1\" class=\"dataframe\">\n  <thead>\n    <tr style=\"text-align: right;\">\n      <th></th>\n      <th>team</th>\n      <th>home_games</th>\n      <th>away_games</th>\n      <th>games_played</th>\n    </tr>\n  </thead>\n  <tbody>\n    <tr>\n      <th>0</th>\n      <td>ARI</td>\n      <td>9</td>\n      <td>8</td>\n      <td>17</td>\n    </tr>\n    <tr>\n      <th>1</th>\n      <td>ATL</td>\n      <td>9</td>\n      <td>8</td>\n      <td>17</td>\n    </tr>\n    <tr>\n      <th>2</th>\n      <td>BAL</td>\n      <td>8</td>\n      <td>9</td>\n      <td>17</td>\n    </tr>\n    <tr>\n      <th>3</th>\n      <td>BUF</td>\n      <td>8</td>\n      <td>8</td>\n      <td>16</td>\n    </tr>\n    <tr>\n      <th>4</th>\n      <td>CAR</td>\n      <td>9</td>\n      <td>8</td>\n      <td>17</td>\n    </tr>\n    <tr>\n      <th>5</th>\n      <td>CHI</td>\n      <td>9</td>\n      <td>8</td>\n      <td>17</td>\n    </tr>\n    <tr>\n      <th>6</th>\n      <td>CIN</td>\n      <td>7</td>\n      <td>9</td>\n      <td>16</td>\n    </tr>\n    <tr>\n      <th>7</th>\n      <td>CLE</td>\n      <td>8</td>\n      <td>9</td>\n      <td>17</td>\n    </tr>\n    <tr>\n      <th>8</th>\n      <td>DAL</td>\n      <td>9</td>\n      <td>8</td>\n      <td>17</td>\n    </tr>\n    <tr>\n      <th>9</th>\n      <td>DEN</td>\n      <td>8</td>\n      <td>9</td>\n      <td>17</td>\n    </tr>\n    <tr>\n      <th>10</th>\n      <td>DET</td>\n      <td>9</td>\n      <td>8</td>\n      <td>17</td>\n    </tr>\n    <tr>\n      <th>11</th>\n      <td>GB</td>\n      <td>9</td>\n      <td>8</td>\n      <td>17</td>\n    </tr>\n    <tr>\n      <th>12</th>\n      <td>HOU</td>\n      <td>8</td>\n      <td>9</td>\n      <td>17</td>\n    </tr>\n    <tr>\n      <th>13</th>\n      <td>IND</td>\n      <td>8</td>\n      <td>9</td>\n      <td>17</td>\n    </tr>\n    <tr>\n      <th>14</th>\n      <td>JAX</td>\n      <td>8</td>\n      <td>9</td>\n      <td>17</td>\n    </tr>\n    <tr>\n      <th>15</th>\n      <td>KC</td>\n      <td>8</td>\n      <td>9</td>\n      <td>17</td>\n    </tr>\n    <tr>\n      <th>16</th>\n      <td>LA</td>\n      <td>9</td>\n      <td>8</td>\n      <td>17</td>\n    </tr>\n    <tr>\n      <th>17</th>\n      <td>LAC</td>\n      <td>8</td>\n      <td>9</td>\n      <td>17</td>\n    </tr>\n    <tr>\n      <th>18</th>\n      <td>LV</td>\n      <td>8</td>\n      <td>9</td>\n      <td>17</td>\n    </tr>\n    <tr>\n      <th>19</th>\n      <td>MIA</td>\n      <td>8</td>\n      <td>9</td>\n      <td>17</td>\n    </tr>\n    <tr>\n      <th>20</th>\n      <td>MIN</td>\n      <td>9</td>\n      <td>8</td>\n      <td>17</td>\n    </tr>\n    <tr>\n      <th>21</th>\n      <td>NE</td>\n      <td>8</td>\n      <td>9</td>\n      <td>17</td>\n    </tr>\n    <tr>\n      <th>22</th>\n      <td>NO</td>\n      <td>9</td>\n      <td>8</td>\n      <td>17</td>\n    </tr>\n    <tr>\n      <th>23</th>\n      <td>NYG</td>\n      <td>9</td>\n      <td>8</td>\n      <td>17</td>\n    </tr>\n    <tr>\n      <th>24</th>\n      <td>NYJ</td>\n      <td>8</td>\n      <td>9</td>\n      <td>17</td>\n    </tr>\n    <tr>\n      <th>25</th>\n      <td>PHI</td>\n      <td>9</td>\n      <td>8</td>\n      <td>17</td>\n    </tr>\n    <tr>\n      <th>26</th>\n      <td>PIT</td>\n      <td>8</td>\n      <td>9</td>\n      <td>17</td>\n    </tr>\n    <tr>\n      <th>27</th>\n      <td>SEA</td>\n      <td>9</td>\n      <td>8</td>\n      <td>17</td>\n    </tr>\n    <tr>\n      <th>28</th>\n      <td>SF</td>\n      <td>9</td>\n      <td>8</td>\n      <td>17</td>\n    </tr>\n    <tr>\n      <th>29</th>\n      <td>TB</td>\n      <td>9</td>\n      <td>8</td>\n      <td>17</td>\n    </tr>\n    <tr>\n      <th>30</th>\n      <td>TEN</td>\n      <td>8</td>\n      <td>9</td>\n      <td>17</td>\n    </tr>\n    <tr>\n      <th>31</th>\n      <td>WAS</td>\n      <td>9</td>\n      <td>8</td>\n      <td>17</td>\n    </tr>\n  </tbody>\n</table>\n</div>"
     },
     "execution_count": 58,
     "metadata": {},
     "output_type": "execute_result"
    }
   ],
   "source": [
    "import pandas as pd\n",
    "\n",
    "season_2022 = schedule_df.loc[(schedule_df['season'] == 2022) & (schedule_df['game_type'] == 'REG')]\n",
    "home_games = season_2022.groupby('home_team')['game_id'].count()\n",
    "home_games.index.name = 'team'\n",
    "home_games.rename(\"home_games\", inplace=True)\n",
    "\n",
    "away_games = season_2022.groupby('away_team')['game_id'].count()\n",
    "away_games.index.name = 'team'\n",
    "away_games.rename(\"away_games\", inplace=True)\n",
    "games_played = pd.concat([home_games, away_games], axis=1)\n",
    "games_played.reset_index(inplace=True)\n",
    "games_played['games_played'] = games_played['home_games'] + games_played['away_games']\n",
    "games_played"
   ],
   "metadata": {
    "collapsed": false,
    "ExecuteTime": {
     "end_time": "2024-01-04T21:36:15.974830800Z",
     "start_time": "2024-01-04T21:36:15.962371300Z"
    }
   },
   "id": "db28ffecc30e901b"
  },
  {
   "cell_type": "code",
   "execution_count": 59,
   "outputs": [
    {
     "data": {
      "text/plain": "     home_score  away_score  points_for\nARI       176.0       164.0       340.0\nATL       224.0       141.0       365.0\nBAL       153.0       197.0       350.0\nBUF       254.0       201.0       455.0\nCAR       199.0       148.0       347.0\nCHI       176.0       150.0       326.0\nCIN       201.0       217.0       418.0\nCLE       180.0       181.0       361.0\nDAL       270.0       197.0       467.0\nDEN       144.0       143.0       287.0\nDET       298.0       155.0       453.0\nGB        215.0       155.0       370.0\nHOU       122.0       167.0       289.0\nIND       154.0       135.0       289.0\nJAX       179.0       225.0       404.0\nKC        201.0       295.0       496.0\nLA        197.0       110.0       307.0\nLAC       174.0       217.0       391.0\nLV        217.0       178.0       395.0\nMIA       173.0       224.0       397.0\nMIN       243.0       181.0       424.0\nNE        156.0       208.0       364.0\nNO        192.0       138.0       330.0\nNYG       201.0       164.0       365.0\nNYJ       149.0       147.0       296.0\nPHI       242.0       235.0       477.0\nPIT       159.0       149.0       308.0\nSEA       199.0       208.0       407.0\nSF        252.0       198.0       450.0\nTB        193.0       120.0       313.0\nTEN       145.0       153.0       298.0\nWAS       160.0       161.0       321.0",
      "text/html": "<div>\n<style scoped>\n    .dataframe tbody tr th:only-of-type {\n        vertical-align: middle;\n    }\n\n    .dataframe tbody tr th {\n        vertical-align: top;\n    }\n\n    .dataframe thead th {\n        text-align: right;\n    }\n</style>\n<table border=\"1\" class=\"dataframe\">\n  <thead>\n    <tr style=\"text-align: right;\">\n      <th></th>\n      <th>home_score</th>\n      <th>away_score</th>\n      <th>points_for</th>\n    </tr>\n  </thead>\n  <tbody>\n    <tr>\n      <th>ARI</th>\n      <td>176.0</td>\n      <td>164.0</td>\n      <td>340.0</td>\n    </tr>\n    <tr>\n      <th>ATL</th>\n      <td>224.0</td>\n      <td>141.0</td>\n      <td>365.0</td>\n    </tr>\n    <tr>\n      <th>BAL</th>\n      <td>153.0</td>\n      <td>197.0</td>\n      <td>350.0</td>\n    </tr>\n    <tr>\n      <th>BUF</th>\n      <td>254.0</td>\n      <td>201.0</td>\n      <td>455.0</td>\n    </tr>\n    <tr>\n      <th>CAR</th>\n      <td>199.0</td>\n      <td>148.0</td>\n      <td>347.0</td>\n    </tr>\n    <tr>\n      <th>CHI</th>\n      <td>176.0</td>\n      <td>150.0</td>\n      <td>326.0</td>\n    </tr>\n    <tr>\n      <th>CIN</th>\n      <td>201.0</td>\n      <td>217.0</td>\n      <td>418.0</td>\n    </tr>\n    <tr>\n      <th>CLE</th>\n      <td>180.0</td>\n      <td>181.0</td>\n      <td>361.0</td>\n    </tr>\n    <tr>\n      <th>DAL</th>\n      <td>270.0</td>\n      <td>197.0</td>\n      <td>467.0</td>\n    </tr>\n    <tr>\n      <th>DEN</th>\n      <td>144.0</td>\n      <td>143.0</td>\n      <td>287.0</td>\n    </tr>\n    <tr>\n      <th>DET</th>\n      <td>298.0</td>\n      <td>155.0</td>\n      <td>453.0</td>\n    </tr>\n    <tr>\n      <th>GB</th>\n      <td>215.0</td>\n      <td>155.0</td>\n      <td>370.0</td>\n    </tr>\n    <tr>\n      <th>HOU</th>\n      <td>122.0</td>\n      <td>167.0</td>\n      <td>289.0</td>\n    </tr>\n    <tr>\n      <th>IND</th>\n      <td>154.0</td>\n      <td>135.0</td>\n      <td>289.0</td>\n    </tr>\n    <tr>\n      <th>JAX</th>\n      <td>179.0</td>\n      <td>225.0</td>\n      <td>404.0</td>\n    </tr>\n    <tr>\n      <th>KC</th>\n      <td>201.0</td>\n      <td>295.0</td>\n      <td>496.0</td>\n    </tr>\n    <tr>\n      <th>LA</th>\n      <td>197.0</td>\n      <td>110.0</td>\n      <td>307.0</td>\n    </tr>\n    <tr>\n      <th>LAC</th>\n      <td>174.0</td>\n      <td>217.0</td>\n      <td>391.0</td>\n    </tr>\n    <tr>\n      <th>LV</th>\n      <td>217.0</td>\n      <td>178.0</td>\n      <td>395.0</td>\n    </tr>\n    <tr>\n      <th>MIA</th>\n      <td>173.0</td>\n      <td>224.0</td>\n      <td>397.0</td>\n    </tr>\n    <tr>\n      <th>MIN</th>\n      <td>243.0</td>\n      <td>181.0</td>\n      <td>424.0</td>\n    </tr>\n    <tr>\n      <th>NE</th>\n      <td>156.0</td>\n      <td>208.0</td>\n      <td>364.0</td>\n    </tr>\n    <tr>\n      <th>NO</th>\n      <td>192.0</td>\n      <td>138.0</td>\n      <td>330.0</td>\n    </tr>\n    <tr>\n      <th>NYG</th>\n      <td>201.0</td>\n      <td>164.0</td>\n      <td>365.0</td>\n    </tr>\n    <tr>\n      <th>NYJ</th>\n      <td>149.0</td>\n      <td>147.0</td>\n      <td>296.0</td>\n    </tr>\n    <tr>\n      <th>PHI</th>\n      <td>242.0</td>\n      <td>235.0</td>\n      <td>477.0</td>\n    </tr>\n    <tr>\n      <th>PIT</th>\n      <td>159.0</td>\n      <td>149.0</td>\n      <td>308.0</td>\n    </tr>\n    <tr>\n      <th>SEA</th>\n      <td>199.0</td>\n      <td>208.0</td>\n      <td>407.0</td>\n    </tr>\n    <tr>\n      <th>SF</th>\n      <td>252.0</td>\n      <td>198.0</td>\n      <td>450.0</td>\n    </tr>\n    <tr>\n      <th>TB</th>\n      <td>193.0</td>\n      <td>120.0</td>\n      <td>313.0</td>\n    </tr>\n    <tr>\n      <th>TEN</th>\n      <td>145.0</td>\n      <td>153.0</td>\n      <td>298.0</td>\n    </tr>\n    <tr>\n      <th>WAS</th>\n      <td>160.0</td>\n      <td>161.0</td>\n      <td>321.0</td>\n    </tr>\n  </tbody>\n</table>\n</div>"
     },
     "execution_count": 59,
     "metadata": {},
     "output_type": "execute_result"
    }
   ],
   "source": [
    "home_scores = season_2022.groupby('home_team')['home_score'].sum()\n",
    "away_scores = season_2022.groupby('away_team')['away_score'].sum()\n",
    "points_for = pd.concat([home_scores, away_scores], axis=1)\n",
    "points_for['points_for'] = points_for['home_score'] + points_for['away_score']\n",
    "points_for"
   ],
   "metadata": {
    "collapsed": false,
    "ExecuteTime": {
     "end_time": "2024-01-04T21:36:24.174811500Z",
     "start_time": "2024-01-04T21:36:24.166295200Z"
    }
   },
   "id": "228f24da0817d3cf"
  },
  {
   "cell_type": "code",
   "execution_count": 77,
   "outputs": [
    {
     "data": {
      "text/plain": "      home_yards  away_yards  total_yards\nteam                                     \nARI       2932.0      2577.0       5509.0\nATL       3025.0      2398.0       5423.0\nBAL       2482.0      3282.0       5764.0\nBUF       3185.0      3180.0       6365.0\nCAR       2886.0      2322.0       5208.0\nCHI       2861.0      2374.0       5235.0\nCIN       2857.0      2917.0       5774.0\nCLE       2893.0      3043.0       5936.0\nDAL       3270.0      2764.0       6034.0\nDEN       2745.0      2784.0       5529.0\nDET       3717.0      2751.0       6468.0\nGB        3075.0      2674.0       5749.0\nHOU       2036.0      2786.0       4822.0\nIND       2529.0      2771.0       5300.0\nJAX       2974.0      3109.0       6083.0\nKC        3169.0      3869.0       7038.0\nLA        2731.0      2038.0       4769.0\nLAC       2886.0      3226.0       6112.0\nLV        2909.0      3084.0       5993.0\nMIA       2857.0      3340.0       6197.0\nMIN       3281.0      2870.0       6151.0\nNE        2347.0      3003.0       5350.0\nNO        3072.0      2608.0       5680.0\nNYG       2968.0      2714.0       5682.0\nNYJ       2757.0      2652.0       5409.0\nPHI       3428.0      3190.0       6618.0\nPIT       2556.0      2934.0       5490.0\nSEA       2930.0      3046.0       5976.0\nSF        3285.0      2931.0       6216.0\nTB        3400.0      2498.0       5898.0\nTEN       2580.0      2467.0       5047.0\nWAS       2914.0      2705.0       5619.0",
      "text/html": "<div>\n<style scoped>\n    .dataframe tbody tr th:only-of-type {\n        vertical-align: middle;\n    }\n\n    .dataframe tbody tr th {\n        vertical-align: top;\n    }\n\n    .dataframe thead th {\n        text-align: right;\n    }\n</style>\n<table border=\"1\" class=\"dataframe\">\n  <thead>\n    <tr style=\"text-align: right;\">\n      <th></th>\n      <th>home_yards</th>\n      <th>away_yards</th>\n      <th>total_yards</th>\n    </tr>\n    <tr>\n      <th>team</th>\n      <th></th>\n      <th></th>\n      <th></th>\n    </tr>\n  </thead>\n  <tbody>\n    <tr>\n      <th>ARI</th>\n      <td>2932.0</td>\n      <td>2577.0</td>\n      <td>5509.0</td>\n    </tr>\n    <tr>\n      <th>ATL</th>\n      <td>3025.0</td>\n      <td>2398.0</td>\n      <td>5423.0</td>\n    </tr>\n    <tr>\n      <th>BAL</th>\n      <td>2482.0</td>\n      <td>3282.0</td>\n      <td>5764.0</td>\n    </tr>\n    <tr>\n      <th>BUF</th>\n      <td>3185.0</td>\n      <td>3180.0</td>\n      <td>6365.0</td>\n    </tr>\n    <tr>\n      <th>CAR</th>\n      <td>2886.0</td>\n      <td>2322.0</td>\n      <td>5208.0</td>\n    </tr>\n    <tr>\n      <th>CHI</th>\n      <td>2861.0</td>\n      <td>2374.0</td>\n      <td>5235.0</td>\n    </tr>\n    <tr>\n      <th>CIN</th>\n      <td>2857.0</td>\n      <td>2917.0</td>\n      <td>5774.0</td>\n    </tr>\n    <tr>\n      <th>CLE</th>\n      <td>2893.0</td>\n      <td>3043.0</td>\n      <td>5936.0</td>\n    </tr>\n    <tr>\n      <th>DAL</th>\n      <td>3270.0</td>\n      <td>2764.0</td>\n      <td>6034.0</td>\n    </tr>\n    <tr>\n      <th>DEN</th>\n      <td>2745.0</td>\n      <td>2784.0</td>\n      <td>5529.0</td>\n    </tr>\n    <tr>\n      <th>DET</th>\n      <td>3717.0</td>\n      <td>2751.0</td>\n      <td>6468.0</td>\n    </tr>\n    <tr>\n      <th>GB</th>\n      <td>3075.0</td>\n      <td>2674.0</td>\n      <td>5749.0</td>\n    </tr>\n    <tr>\n      <th>HOU</th>\n      <td>2036.0</td>\n      <td>2786.0</td>\n      <td>4822.0</td>\n    </tr>\n    <tr>\n      <th>IND</th>\n      <td>2529.0</td>\n      <td>2771.0</td>\n      <td>5300.0</td>\n    </tr>\n    <tr>\n      <th>JAX</th>\n      <td>2974.0</td>\n      <td>3109.0</td>\n      <td>6083.0</td>\n    </tr>\n    <tr>\n      <th>KC</th>\n      <td>3169.0</td>\n      <td>3869.0</td>\n      <td>7038.0</td>\n    </tr>\n    <tr>\n      <th>LA</th>\n      <td>2731.0</td>\n      <td>2038.0</td>\n      <td>4769.0</td>\n    </tr>\n    <tr>\n      <th>LAC</th>\n      <td>2886.0</td>\n      <td>3226.0</td>\n      <td>6112.0</td>\n    </tr>\n    <tr>\n      <th>LV</th>\n      <td>2909.0</td>\n      <td>3084.0</td>\n      <td>5993.0</td>\n    </tr>\n    <tr>\n      <th>MIA</th>\n      <td>2857.0</td>\n      <td>3340.0</td>\n      <td>6197.0</td>\n    </tr>\n    <tr>\n      <th>MIN</th>\n      <td>3281.0</td>\n      <td>2870.0</td>\n      <td>6151.0</td>\n    </tr>\n    <tr>\n      <th>NE</th>\n      <td>2347.0</td>\n      <td>3003.0</td>\n      <td>5350.0</td>\n    </tr>\n    <tr>\n      <th>NO</th>\n      <td>3072.0</td>\n      <td>2608.0</td>\n      <td>5680.0</td>\n    </tr>\n    <tr>\n      <th>NYG</th>\n      <td>2968.0</td>\n      <td>2714.0</td>\n      <td>5682.0</td>\n    </tr>\n    <tr>\n      <th>NYJ</th>\n      <td>2757.0</td>\n      <td>2652.0</td>\n      <td>5409.0</td>\n    </tr>\n    <tr>\n      <th>PHI</th>\n      <td>3428.0</td>\n      <td>3190.0</td>\n      <td>6618.0</td>\n    </tr>\n    <tr>\n      <th>PIT</th>\n      <td>2556.0</td>\n      <td>2934.0</td>\n      <td>5490.0</td>\n    </tr>\n    <tr>\n      <th>SEA</th>\n      <td>2930.0</td>\n      <td>3046.0</td>\n      <td>5976.0</td>\n    </tr>\n    <tr>\n      <th>SF</th>\n      <td>3285.0</td>\n      <td>2931.0</td>\n      <td>6216.0</td>\n    </tr>\n    <tr>\n      <th>TB</th>\n      <td>3400.0</td>\n      <td>2498.0</td>\n      <td>5898.0</td>\n    </tr>\n    <tr>\n      <th>TEN</th>\n      <td>2580.0</td>\n      <td>2467.0</td>\n      <td>5047.0</td>\n    </tr>\n    <tr>\n      <th>WAS</th>\n      <td>2914.0</td>\n      <td>2705.0</td>\n      <td>5619.0</td>\n    </tr>\n  </tbody>\n</table>\n</div>"
     },
     "execution_count": 77,
     "metadata": {},
     "output_type": "execute_result"
    }
   ],
   "source": [
    "pbp_2022 = pbp_data.loc[(pbp_data['season'] == test_season) & (pbp_data['season_type'] == 'REG')]\n",
    "home_yards = pbp_2022.loc[(pbp_2022['home_team'] == pbp_2022['posteam'])].groupby('posteam')['yards_gained'].sum()\n",
    "home_yards.index.name = 'team'\n",
    "home_yards.rename(\"home_yards\", inplace=True)\n",
    "\n",
    "away_yards = pbp_2022.loc[(pbp_2022['away_team'] == pbp_2022['posteam'])].groupby('posteam')['yards_gained'].sum()\n",
    "away_yards.index.name = 'team'\n",
    "away_yards.rename(\"away_yards\", inplace=True)\n",
    "\n",
    "total_yards = pd.concat([home_yards, away_yards], axis=1)\n",
    "total_yards['total_yards'] = total_yards['home_yards'] + total_yards['away_yards']\n",
    "total_yards"
   ],
   "metadata": {
    "collapsed": false,
    "ExecuteTime": {
     "end_time": "2024-01-04T21:52:10.623745Z",
     "start_time": "2024-01-04T21:52:10.404497800Z"
    }
   },
   "id": "cf3671c8f5320c27"
  },
  {
   "cell_type": "code",
   "execution_count": 88,
   "outputs": [
    {
     "data": {
      "text/plain": "      home_pass_plays  away_pass_plays  total_pass_plays\nteam                                                    \nARI               386              327               713\nATL               225              225               450\nBAL               226              296               522\nBUF               283              324               607\nCAR               253              238               491\nCHI               238              201               439\nCIN               283              375               658\nCLE               274              306               580\nDAL               303              280               583\nDEN               305              329               634\nDET               333              279               612\nGB                306              289               595\nHOU               291              329               620\nIND               312              355               667\nJAX               301              327               628\nKC                346              334               680\nLA                339              249               588\nLAC               357              393               750\nLV                292              332               624\nMIA               285              335               620\nMIN               383              337               720\nNE                263              320               583\nNO                284              266               550\nNYG               291              278               569\nNYJ               316              353               669\nPHI               300              280               580\nPIT               281              329               610\nSEA               341              279               620\nSF                287              256               543\nTB                437              339               776\nTEN               266              239               505\nWAS               311              296               607",
      "text/html": "<div>\n<style scoped>\n    .dataframe tbody tr th:only-of-type {\n        vertical-align: middle;\n    }\n\n    .dataframe tbody tr th {\n        vertical-align: top;\n    }\n\n    .dataframe thead th {\n        text-align: right;\n    }\n</style>\n<table border=\"1\" class=\"dataframe\">\n  <thead>\n    <tr style=\"text-align: right;\">\n      <th></th>\n      <th>home_pass_plays</th>\n      <th>away_pass_plays</th>\n      <th>total_pass_plays</th>\n    </tr>\n    <tr>\n      <th>team</th>\n      <th></th>\n      <th></th>\n      <th></th>\n    </tr>\n  </thead>\n  <tbody>\n    <tr>\n      <th>ARI</th>\n      <td>386</td>\n      <td>327</td>\n      <td>713</td>\n    </tr>\n    <tr>\n      <th>ATL</th>\n      <td>225</td>\n      <td>225</td>\n      <td>450</td>\n    </tr>\n    <tr>\n      <th>BAL</th>\n      <td>226</td>\n      <td>296</td>\n      <td>522</td>\n    </tr>\n    <tr>\n      <th>BUF</th>\n      <td>283</td>\n      <td>324</td>\n      <td>607</td>\n    </tr>\n    <tr>\n      <th>CAR</th>\n      <td>253</td>\n      <td>238</td>\n      <td>491</td>\n    </tr>\n    <tr>\n      <th>CHI</th>\n      <td>238</td>\n      <td>201</td>\n      <td>439</td>\n    </tr>\n    <tr>\n      <th>CIN</th>\n      <td>283</td>\n      <td>375</td>\n      <td>658</td>\n    </tr>\n    <tr>\n      <th>CLE</th>\n      <td>274</td>\n      <td>306</td>\n      <td>580</td>\n    </tr>\n    <tr>\n      <th>DAL</th>\n      <td>303</td>\n      <td>280</td>\n      <td>583</td>\n    </tr>\n    <tr>\n      <th>DEN</th>\n      <td>305</td>\n      <td>329</td>\n      <td>634</td>\n    </tr>\n    <tr>\n      <th>DET</th>\n      <td>333</td>\n      <td>279</td>\n      <td>612</td>\n    </tr>\n    <tr>\n      <th>GB</th>\n      <td>306</td>\n      <td>289</td>\n      <td>595</td>\n    </tr>\n    <tr>\n      <th>HOU</th>\n      <td>291</td>\n      <td>329</td>\n      <td>620</td>\n    </tr>\n    <tr>\n      <th>IND</th>\n      <td>312</td>\n      <td>355</td>\n      <td>667</td>\n    </tr>\n    <tr>\n      <th>JAX</th>\n      <td>301</td>\n      <td>327</td>\n      <td>628</td>\n    </tr>\n    <tr>\n      <th>KC</th>\n      <td>346</td>\n      <td>334</td>\n      <td>680</td>\n    </tr>\n    <tr>\n      <th>LA</th>\n      <td>339</td>\n      <td>249</td>\n      <td>588</td>\n    </tr>\n    <tr>\n      <th>LAC</th>\n      <td>357</td>\n      <td>393</td>\n      <td>750</td>\n    </tr>\n    <tr>\n      <th>LV</th>\n      <td>292</td>\n      <td>332</td>\n      <td>624</td>\n    </tr>\n    <tr>\n      <th>MIA</th>\n      <td>285</td>\n      <td>335</td>\n      <td>620</td>\n    </tr>\n    <tr>\n      <th>MIN</th>\n      <td>383</td>\n      <td>337</td>\n      <td>720</td>\n    </tr>\n    <tr>\n      <th>NE</th>\n      <td>263</td>\n      <td>320</td>\n      <td>583</td>\n    </tr>\n    <tr>\n      <th>NO</th>\n      <td>284</td>\n      <td>266</td>\n      <td>550</td>\n    </tr>\n    <tr>\n      <th>NYG</th>\n      <td>291</td>\n      <td>278</td>\n      <td>569</td>\n    </tr>\n    <tr>\n      <th>NYJ</th>\n      <td>316</td>\n      <td>353</td>\n      <td>669</td>\n    </tr>\n    <tr>\n      <th>PHI</th>\n      <td>300</td>\n      <td>280</td>\n      <td>580</td>\n    </tr>\n    <tr>\n      <th>PIT</th>\n      <td>281</td>\n      <td>329</td>\n      <td>610</td>\n    </tr>\n    <tr>\n      <th>SEA</th>\n      <td>341</td>\n      <td>279</td>\n      <td>620</td>\n    </tr>\n    <tr>\n      <th>SF</th>\n      <td>287</td>\n      <td>256</td>\n      <td>543</td>\n    </tr>\n    <tr>\n      <th>TB</th>\n      <td>437</td>\n      <td>339</td>\n      <td>776</td>\n    </tr>\n    <tr>\n      <th>TEN</th>\n      <td>266</td>\n      <td>239</td>\n      <td>505</td>\n    </tr>\n    <tr>\n      <th>WAS</th>\n      <td>311</td>\n      <td>296</td>\n      <td>607</td>\n    </tr>\n  </tbody>\n</table>\n</div>"
     },
     "execution_count": 88,
     "metadata": {},
     "output_type": "execute_result"
    }
   ],
   "source": [
    "home_pass_plays = pbp_2022.loc[(pbp_2022['home_team'] == pbp_2022['posteam']) & (pbp_2022['play_type'] == 'pass')].groupby('posteam')['play_id'].count()\n",
    "home_pass_plays.index.name = 'team'\n",
    "home_pass_plays.rename(\"home_pass_plays\", inplace=True)\n",
    "\n",
    "away_pass_plays = pbp_2022.loc[(pbp_2022['away_team'] == pbp_2022['posteam']) & (pbp_2022['play_type'] == 'pass')].groupby('posteam')['play_id'].count()\n",
    "away_pass_plays.index.name = 'team'\n",
    "away_pass_plays.rename(\"away_pass_plays\", inplace=True)\n",
    "\n",
    "total_pass_plays = pd.concat([home_pass_plays, away_pass_plays], axis=1)\n",
    "total_pass_plays['total_pass_plays'] = total_pass_plays['home_pass_plays'] + total_pass_plays['away_pass_plays']\n",
    "total_pass_plays"
   ],
   "metadata": {
    "collapsed": false,
    "ExecuteTime": {
     "end_time": "2024-01-04T22:05:17.559214200Z",
     "start_time": "2024-01-04T22:05:17.506492600Z"
    }
   },
   "id": "d32444ba0e383484"
  }
 ],
 "metadata": {
  "kernelspec": {
   "display_name": "Python 3",
   "language": "python",
   "name": "python3"
  },
  "language_info": {
   "codemirror_mode": {
    "name": "ipython",
    "version": 2
   },
   "file_extension": ".py",
   "mimetype": "text/x-python",
   "name": "python",
   "nbconvert_exporter": "python",
   "pygments_lexer": "ipython2",
   "version": "2.7.6"
  }
 },
 "nbformat": 4,
 "nbformat_minor": 5
}
