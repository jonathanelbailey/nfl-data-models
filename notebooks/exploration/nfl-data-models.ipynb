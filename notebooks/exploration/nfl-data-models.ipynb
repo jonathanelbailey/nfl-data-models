{
 "cells": [
  {
   "cell_type": "code",
   "execution_count": 4,
   "outputs": [],
   "source": [
    "import pandas as pd\n",
    "import xgboost as xgb\n",
    "\n",
    "\n",
    "class WPModel:\n",
    "    def __init__(self):\n",
    "        self.wp_spread_model = None\n",
    "        self.wp_spread_calibration_data_path = '../../calibration_data/wp_model_calibration_data.csv'\n",
    "        self.wp_spread_model_path = 'models/wp_spread_model.json'\n",
    "        self.n_rounds = 15000\n",
    "        self.wp_spread_monotone_constraints = {\n",
    "            'receive_2h_ko': 0,\n",
    "            'spread_time': 1,\n",
    "            'home': 0,\n",
    "            'half_seconds_remaining': 0,\n",
    "            'game_seconds_remaining': 0,\n",
    "            'diff_time_ratio': 1,\n",
    "            'score_differential': 1,\n",
    "            'down': -1,\n",
    "            'ydstogo': -1,\n",
    "            'yardline_100': -1,\n",
    "            'posteam_timeouts_remaining': 1,\n",
    "            'defteam_timeouts_remaining': -1\n",
    "        }\n",
    "        self.wp_spread_model_sklearn_parameters = {\n",
    "            'n_estimators': self.n_rounds,\n",
    "            'booster': 'gbtree',\n",
    "            'device': 'cuda',\n",
    "            'objective': 'binary:logistic',\n",
    "            'tree_method': 'approx',\n",
    "            'grow_policy': 'lossguide',\n",
    "            'sampling_method': 'gradient_based',\n",
    "            'eval_metric': ['logloss', 'auc', 'error'],\n",
    "            'early_stopping_rounds': 200,\n",
    "            'learning_rate': 0.05,\n",
    "            'gamma': 0.79012017,\n",
    "            'subsample': 0.9224245,\n",
    "            'colsample_bytree': 5 / 12,\n",
    "            'max_depth': 5,\n",
    "            'min_child_weight': 7,\n",
    "            'monotone_constraints': self.wp_spread_monotone_constraints\n",
    "        }\n",
    "        self.drop_columns = ['season', 'game_id', 'label', 'home_team', 'away_team']\n",
    "\n",
    "    def import_calibration_data(self):\n",
    "        calibration_data = pd.read_csv(self.wp_spread_calibration_data_path)\n",
    "\n",
    "        return calibration_data\n",
    "\n",
    "    def train(self, X, y, X_test, y_test):\n",
    "        clf = xgb.XGBClassifier(**self.wp_spread_model_sklearn_parameters)\n",
    "        clf.fit(X, y,  eval_set=[(X, y), (X_test, y_test)], verbose=50)\n",
    "        return clf"
   ],
   "metadata": {
    "collapsed": false,
    "ExecuteTime": {
     "end_time": "2023-11-26T19:01:54.092790Z",
     "start_time": "2023-11-26T19:01:54.038903700Z"
    }
   },
   "id": "b9e0d7795a166a25"
  },
  {
   "cell_type": "markdown",
   "source": [
    "# Model Results: XGBoost with custom train_test_split"
   ],
   "metadata": {
    "collapsed": false
   },
   "id": "f515383534bf3087"
  },
  {
   "cell_type": "code",
   "execution_count": 6,
   "outputs": [
    {
     "name": "stdout",
     "output_type": "stream",
     "text": [
      "[0]\tvalidation_0-logloss:0.67713\tvalidation_0-auc:0.82905\tvalidation_0-error:0.27677\tvalidation_1-logloss:0.67701\tvalidation_1-auc:0.83616\tvalidation_1-error:0.26513\n",
      "[50]\tvalidation_0-logloss:0.47829\tvalidation_0-auc:0.86120\tvalidation_0-error:0.22793\tvalidation_1-logloss:0.48823\tvalidation_1-auc:0.85293\tvalidation_1-error:0.23006\n",
      "[100]\tvalidation_0-logloss:0.45689\tvalidation_0-auc:0.86310\tvalidation_0-error:0.22622\tvalidation_1-logloss:0.47067\tvalidation_1-auc:0.85421\tvalidation_1-error:0.22791\n",
      "[150]\tvalidation_0-logloss:0.45221\tvalidation_0-auc:0.86456\tvalidation_0-error:0.22494\tvalidation_1-logloss:0.46772\tvalidation_1-auc:0.85489\tvalidation_1-error:0.22753\n",
      "[200]\tvalidation_0-logloss:0.45050\tvalidation_0-auc:0.86529\tvalidation_0-error:0.22441\tvalidation_1-logloss:0.46699\tvalidation_1-auc:0.85511\tvalidation_1-error:0.22702\n",
      "[250]\tvalidation_0-logloss:0.44948\tvalidation_0-auc:0.86577\tvalidation_0-error:0.22406\tvalidation_1-logloss:0.46694\tvalidation_1-auc:0.85502\tvalidation_1-error:0.22759\n",
      "[300]\tvalidation_0-logloss:0.44871\tvalidation_0-auc:0.86617\tvalidation_0-error:0.22383\tvalidation_1-logloss:0.46647\tvalidation_1-auc:0.85528\tvalidation_1-error:0.22696\n",
      "[350]\tvalidation_0-logloss:0.44816\tvalidation_0-auc:0.86644\tvalidation_0-error:0.22366\tvalidation_1-logloss:0.46634\tvalidation_1-auc:0.85526\tvalidation_1-error:0.22727\n",
      "[400]\tvalidation_0-logloss:0.44772\tvalidation_0-auc:0.86667\tvalidation_0-error:0.22348\tvalidation_1-logloss:0.46623\tvalidation_1-auc:0.85524\tvalidation_1-error:0.22708\n",
      "[413]\tvalidation_0-logloss:0.44765\tvalidation_0-auc:0.86670\tvalidation_0-error:0.22344\tvalidation_1-logloss:0.46626\tvalidation_1-auc:0.85520\tvalidation_1-error:0.22734\n"
     ]
    },
    {
     "name": "stderr",
     "output_type": "stream",
     "text": [
      "/home/dev/.virtualenvs/nfl-data-models/lib/python3.10/site-packages/xgboost/core.py:160: UserWarning: [13:03:09] WARNING: /workspace/src/common/error_msg.cc:58: Falling back to prediction using DMatrix due to mismatched devices. This might lead to higher memory usage and slower performance. XGBoost is running on: cuda:0, while the input data is on: cpu.\n",
      "Potential solutions:\n",
      "- Use a data structure that matches the device ordinal in the booster.\n",
      "- Set the device for booster before call to inplace_predict.\n",
      "\n",
      "This warning will only be shown once.\n",
      "\n",
      "  warnings.warn(smsg, UserWarning)\n",
      "/tmp/ipykernel_1375/1842155788.py:28: SettingWithCopyWarning: \n",
      "A value is trying to be set on a copy of a slice from a DataFrame.\n",
      "Try using .loc[row_indexer,col_indexer] = value instead\n",
      "\n",
      "See the caveats in the documentation: https://pandas.pydata.org/pandas-docs/stable/user_guide/indexing.html#returning-a-view-versus-a-copy\n",
      "  test_df['win_probability'] = wp_preds[:,1]\n"
     ]
    }
   ],
   "source": [
    "from sklearn.model_selection import GroupKFold\n",
    "\n",
    "def train_test_split(df, test_data_after_season, n_splits, drop_col):\n",
    "    cal_data = df.copy()\n",
    "\n",
    "    X_train = cal_data[cal_data['season'] < test_data_after_season]\n",
    "    X_test = cal_data[cal_data['season'] >= test_data_after_season]\n",
    "    X_test.reset_index(drop=True, inplace=True)\n",
    "\n",
    "    y_train = X_train['label']\n",
    "    y_test = X_test['label']\n",
    "\n",
    "    group_kfold = GroupKFold(n_splits=n_splits)\n",
    "    folds = list(group_kfold.split(X=X_train, y=X_train['game_id'], groups=X_train['game_id']))\n",
    "\n",
    "    X_train = X_train.drop(drop_col, axis=1)\n",
    "    X_test = X_test.drop(drop_col, axis=1)\n",
    "\n",
    "    return X_train, y_train, X_test, y_test, folds\n",
    "\n",
    "wp_model = WPModel()\n",
    "cal_data = wp_model.import_calibration_data()\n",
    "test_df = cal_data.loc[cal_data['season'] >= 2023]\n",
    "X_train, y_train, X_test, y_test, folds = train_test_split(cal_data,2023, 5, wp_model.drop_columns)\n",
    "clf = wp_model.train(X_train, y_train, X_test, y_test)\n",
    "scores = clf.evals_result()\n",
    "wp_preds = clf.predict_proba(X_test, validate_features=True)\n",
    "test_df['win_probability'] = wp_preds[:,1]\n",
    "cols = ['game_id', 'game_seconds_remaining', 'score_differential', 'yardline_100', 'win_probability']\n",
    "test_df = test_df.filter(items=cols)"
   ],
   "metadata": {
    "collapsed": false,
    "ExecuteTime": {
     "end_time": "2023-11-26T19:03:09.390690400Z",
     "start_time": "2023-11-26T19:02:15.981867500Z"
    }
   },
   "id": "8a080b8883383455"
  },
  {
   "cell_type": "code",
   "execution_count": 7,
   "outputs": [
    {
     "data": {
      "text/plain": "                game_id  game_seconds_remaining  score_differential  \\\n949362  2023_01_ARI_WAS                  3600.0                 0.0   \n949363  2023_01_ARI_WAS                  3570.0                 0.0   \n949364  2023_01_ARI_WAS                  3535.0                 0.0   \n949365  2023_01_ARI_WAS                  3496.0                 0.0   \n949366  2023_01_ARI_WAS                  3492.0                 0.0   \n949367  2023_01_ARI_WAS                  3454.0                 0.0   \n949368  2023_01_ARI_WAS                  3416.0                 0.0   \n949369  2023_01_ARI_WAS                  3411.0                 0.0   \n949370  2023_01_ARI_WAS                  3368.0                 0.0   \n949371  2023_01_ARI_WAS                  3359.0                 0.0   \n\n        yardline_100  win_probability  \n949362          75.0         0.745796  \n949363          72.0         0.723924  \n949364          66.0         0.733173  \n949365          64.0         0.745742  \n949366          64.0         0.734743  \n949367          52.0         0.748597  \n949368          51.0         0.735136  \n949369          51.0         0.715158  \n949370          49.0         0.689992  \n949371          83.0         0.302785  ",
      "text/html": "<div>\n<style scoped>\n    .dataframe tbody tr th:only-of-type {\n        vertical-align: middle;\n    }\n\n    .dataframe tbody tr th {\n        vertical-align: top;\n    }\n\n    .dataframe thead th {\n        text-align: right;\n    }\n</style>\n<table border=\"1\" class=\"dataframe\">\n  <thead>\n    <tr style=\"text-align: right;\">\n      <th></th>\n      <th>game_id</th>\n      <th>game_seconds_remaining</th>\n      <th>score_differential</th>\n      <th>yardline_100</th>\n      <th>win_probability</th>\n    </tr>\n  </thead>\n  <tbody>\n    <tr>\n      <th>949362</th>\n      <td>2023_01_ARI_WAS</td>\n      <td>3600.0</td>\n      <td>0.0</td>\n      <td>75.0</td>\n      <td>0.745796</td>\n    </tr>\n    <tr>\n      <th>949363</th>\n      <td>2023_01_ARI_WAS</td>\n      <td>3570.0</td>\n      <td>0.0</td>\n      <td>72.0</td>\n      <td>0.723924</td>\n    </tr>\n    <tr>\n      <th>949364</th>\n      <td>2023_01_ARI_WAS</td>\n      <td>3535.0</td>\n      <td>0.0</td>\n      <td>66.0</td>\n      <td>0.733173</td>\n    </tr>\n    <tr>\n      <th>949365</th>\n      <td>2023_01_ARI_WAS</td>\n      <td>3496.0</td>\n      <td>0.0</td>\n      <td>64.0</td>\n      <td>0.745742</td>\n    </tr>\n    <tr>\n      <th>949366</th>\n      <td>2023_01_ARI_WAS</td>\n      <td>3492.0</td>\n      <td>0.0</td>\n      <td>64.0</td>\n      <td>0.734743</td>\n    </tr>\n    <tr>\n      <th>949367</th>\n      <td>2023_01_ARI_WAS</td>\n      <td>3454.0</td>\n      <td>0.0</td>\n      <td>52.0</td>\n      <td>0.748597</td>\n    </tr>\n    <tr>\n      <th>949368</th>\n      <td>2023_01_ARI_WAS</td>\n      <td>3416.0</td>\n      <td>0.0</td>\n      <td>51.0</td>\n      <td>0.735136</td>\n    </tr>\n    <tr>\n      <th>949369</th>\n      <td>2023_01_ARI_WAS</td>\n      <td>3411.0</td>\n      <td>0.0</td>\n      <td>51.0</td>\n      <td>0.715158</td>\n    </tr>\n    <tr>\n      <th>949370</th>\n      <td>2023_01_ARI_WAS</td>\n      <td>3368.0</td>\n      <td>0.0</td>\n      <td>49.0</td>\n      <td>0.689992</td>\n    </tr>\n    <tr>\n      <th>949371</th>\n      <td>2023_01_ARI_WAS</td>\n      <td>3359.0</td>\n      <td>0.0</td>\n      <td>83.0</td>\n      <td>0.302785</td>\n    </tr>\n  </tbody>\n</table>\n</div>"
     },
     "execution_count": 7,
     "metadata": {},
     "output_type": "execute_result"
    }
   ],
   "source": [
    "test_df.head(10)"
   ],
   "metadata": {
    "collapsed": false,
    "ExecuteTime": {
     "end_time": "2023-11-26T19:05:13.704070300Z",
     "start_time": "2023-11-26T19:05:13.668496100Z"
    }
   },
   "id": "9a1b69d55032bb6e"
  },
  {
   "cell_type": "code",
   "execution_count": 8,
   "outputs": [
    {
     "name": "stdout",
     "output_type": "stream",
     "text": [
      "Log Loss: 0.4775\n",
      "Error: 0.2279\n",
      "Area Under Curve: 0.8543\n"
     ]
    }
   ],
   "source": [
    "print(\"Log Loss: \" + str(round(sum(scores['validation_1']['logloss']) / len(scores['validation_1']['logloss']), 4)))\n",
    "print(\"Error: \" + str(round(sum(scores['validation_1']['error']) / len(scores['validation_1']['error']), 4)))\n",
    "print(\"Area Under Curve: \" + str(round(sum(scores['validation_1']['auc']) / len(scores['validation_1']['auc']), 4)))"
   ],
   "metadata": {
    "collapsed": false,
    "ExecuteTime": {
     "end_time": "2023-11-26T19:05:20.800930Z",
     "start_time": "2023-11-26T19:05:20.745864700Z"
    }
   },
   "id": "34b4a7c61f0c3b90"
  },
  {
   "cell_type": "markdown",
   "source": [
    "# Model Results: xgboost with scikit-learn train_test_split"
   ],
   "metadata": {
    "collapsed": false
   },
   "id": "eac8dc1fcf16ead8"
  },
  {
   "cell_type": "code",
   "execution_count": 10,
   "outputs": [
    {
     "name": "stdout",
     "output_type": "stream",
     "text": [
      "[0]\tvalidation_0-logloss:0.67714\tvalidation_0-auc:0.82942\tvalidation_0-error:0.28308\tvalidation_1-logloss:0.67720\tvalidation_1-auc:0.82861\tvalidation_1-error:0.28494\n",
      "[50]\tvalidation_0-logloss:0.47842\tvalidation_0-auc:0.86113\tvalidation_0-error:0.22786\tvalidation_1-logloss:0.47867\tvalidation_1-auc:0.86086\tvalidation_1-error:0.22843\n",
      "[100]\tvalidation_0-logloss:0.45707\tvalidation_0-auc:0.86303\tvalidation_0-error:0.22611\tvalidation_1-logloss:0.45734\tvalidation_1-auc:0.86274\tvalidation_1-error:0.22637\n",
      "[150]\tvalidation_0-logloss:0.45254\tvalidation_0-auc:0.86440\tvalidation_0-error:0.22495\tvalidation_1-logloss:0.45286\tvalidation_1-auc:0.86407\tvalidation_1-error:0.22516\n",
      "[200]\tvalidation_0-logloss:0.45076\tvalidation_0-auc:0.86516\tvalidation_0-error:0.22423\tvalidation_1-logloss:0.45124\tvalidation_1-auc:0.86474\tvalidation_1-error:0.22458\n",
      "[250]\tvalidation_0-logloss:0.44973\tvalidation_0-auc:0.86567\tvalidation_0-error:0.22404\tvalidation_1-logloss:0.45036\tvalidation_1-auc:0.86516\tvalidation_1-error:0.22433\n",
      "[300]\tvalidation_0-logloss:0.44892\tvalidation_0-auc:0.86608\tvalidation_0-error:0.22379\tvalidation_1-logloss:0.44969\tvalidation_1-auc:0.86549\tvalidation_1-error:0.22418\n",
      "[350]\tvalidation_0-logloss:0.44840\tvalidation_0-auc:0.86631\tvalidation_0-error:0.22361\tvalidation_1-logloss:0.44930\tvalidation_1-auc:0.86563\tvalidation_1-error:0.22406\n",
      "[400]\tvalidation_0-logloss:0.44811\tvalidation_0-auc:0.86647\tvalidation_0-error:0.22350\tvalidation_1-logloss:0.44911\tvalidation_1-auc:0.86572\tvalidation_1-error:0.22398\n",
      "[450]\tvalidation_0-logloss:0.44811\tvalidation_0-auc:0.86647\tvalidation_0-error:0.22350\tvalidation_1-logloss:0.44911\tvalidation_1-auc:0.86572\tvalidation_1-error:0.22399\n",
      "[500]\tvalidation_0-logloss:0.44811\tvalidation_0-auc:0.86647\tvalidation_0-error:0.22350\tvalidation_1-logloss:0.44911\tvalidation_1-auc:0.86572\tvalidation_1-error:0.22400\n",
      "[550]\tvalidation_0-logloss:0.44811\tvalidation_0-auc:0.86647\tvalidation_0-error:0.22350\tvalidation_1-logloss:0.44911\tvalidation_1-auc:0.86572\tvalidation_1-error:0.22399\n",
      "[586]\tvalidation_0-logloss:0.44811\tvalidation_0-auc:0.86647\tvalidation_0-error:0.22350\tvalidation_1-logloss:0.44911\tvalidation_1-auc:0.86572\tvalidation_1-error:0.22400\n"
     ]
    }
   ],
   "source": [
    "from sklearn.model_selection import train_test_split\n",
    "\n",
    "wp_model = WPModel()\n",
    "cal_data = wp_model.import_calibration_data()\n",
    "X = cal_data.loc[:, ~cal_data.columns.isin(['season', 'game_id', 'label', 'home_team', 'away_team'])]\n",
    "y = cal_data['label']\n",
    "\n",
    "X_train, X_test, y_train, y_test = train_test_split(X, y, random_state=42)\n",
    "\n",
    "clf = wp_model.train(X_train, y_train, X_test, y_test)\n",
    "scores = clf.evals_result()\n",
    "wp_preds = clf.predict_proba(X_test, validate_features=True)"
   ],
   "metadata": {
    "collapsed": false,
    "ExecuteTime": {
     "end_time": "2023-11-26T19:07:00.521861Z",
     "start_time": "2023-11-26T19:06:01.714507400Z"
    }
   },
   "id": "eb1708a9742466ad"
  },
  {
   "cell_type": "code",
   "execution_count": 11,
   "outputs": [],
   "source": [
    "X_test['wp'] = wp_preds[:,1]\n",
    "cal_data['win_probability'] = X_test['wp']\n",
    "cols = ['game_id', 'game_seconds_remaining', 'score_differential', 'yardline_100', 'win_probability']\n",
    "test_df = cal_data.filter(items=cols)"
   ],
   "metadata": {
    "collapsed": false,
    "ExecuteTime": {
     "end_time": "2023-11-26T19:07:16.267109Z",
     "start_time": "2023-11-26T19:07:16.241584400Z"
    }
   },
   "id": "14b627c0c7e2a2a7"
  },
  {
   "cell_type": "code",
   "execution_count": 12,
   "outputs": [
    {
     "data": {
      "text/plain": "                game_id  game_seconds_remaining  score_differential  \\\n0       1999_01_ARI_PHI                  3600.0                 0.0   \n7       1999_01_ARI_PHI                  3487.0                 0.0   \n10      1999_01_ARI_PHI                  3388.0                 0.0   \n12      1999_01_ARI_PHI                  3388.0                 0.0   \n14      1999_01_ARI_PHI                  3388.0                 0.0   \n...                 ...                     ...                 ...   \n965140   2023_08_TB_BUF                   196.0               -14.0   \n965141   2023_08_TB_BUF                   191.0               -14.0   \n965144   2023_08_TB_BUF                   176.0               -14.0   \n965149   2023_08_TB_BUF                   132.0                 6.0   \n965155   2023_08_TB_BUF                     8.0                -6.0   \n\n        yardline_100  win_probability  \n0               77.0         0.341410  \n7               76.0         0.667692  \n10              52.0         0.374127  \n12              36.0         0.394564  \n14              27.0         0.418828  \n...              ...              ...  \n965140          39.0         0.011514  \n965141          39.0         0.008377  \n965144          24.0         0.011057  \n965149          57.0         0.976000  \n965155          68.0         0.024947  \n\n[241290 rows x 5 columns]",
      "text/html": "<div>\n<style scoped>\n    .dataframe tbody tr th:only-of-type {\n        vertical-align: middle;\n    }\n\n    .dataframe tbody tr th {\n        vertical-align: top;\n    }\n\n    .dataframe thead th {\n        text-align: right;\n    }\n</style>\n<table border=\"1\" class=\"dataframe\">\n  <thead>\n    <tr style=\"text-align: right;\">\n      <th></th>\n      <th>game_id</th>\n      <th>game_seconds_remaining</th>\n      <th>score_differential</th>\n      <th>yardline_100</th>\n      <th>win_probability</th>\n    </tr>\n  </thead>\n  <tbody>\n    <tr>\n      <th>0</th>\n      <td>1999_01_ARI_PHI</td>\n      <td>3600.0</td>\n      <td>0.0</td>\n      <td>77.0</td>\n      <td>0.341410</td>\n    </tr>\n    <tr>\n      <th>7</th>\n      <td>1999_01_ARI_PHI</td>\n      <td>3487.0</td>\n      <td>0.0</td>\n      <td>76.0</td>\n      <td>0.667692</td>\n    </tr>\n    <tr>\n      <th>10</th>\n      <td>1999_01_ARI_PHI</td>\n      <td>3388.0</td>\n      <td>0.0</td>\n      <td>52.0</td>\n      <td>0.374127</td>\n    </tr>\n    <tr>\n      <th>12</th>\n      <td>1999_01_ARI_PHI</td>\n      <td>3388.0</td>\n      <td>0.0</td>\n      <td>36.0</td>\n      <td>0.394564</td>\n    </tr>\n    <tr>\n      <th>14</th>\n      <td>1999_01_ARI_PHI</td>\n      <td>3388.0</td>\n      <td>0.0</td>\n      <td>27.0</td>\n      <td>0.418828</td>\n    </tr>\n    <tr>\n      <th>...</th>\n      <td>...</td>\n      <td>...</td>\n      <td>...</td>\n      <td>...</td>\n      <td>...</td>\n    </tr>\n    <tr>\n      <th>965140</th>\n      <td>2023_08_TB_BUF</td>\n      <td>196.0</td>\n      <td>-14.0</td>\n      <td>39.0</td>\n      <td>0.011514</td>\n    </tr>\n    <tr>\n      <th>965141</th>\n      <td>2023_08_TB_BUF</td>\n      <td>191.0</td>\n      <td>-14.0</td>\n      <td>39.0</td>\n      <td>0.008377</td>\n    </tr>\n    <tr>\n      <th>965144</th>\n      <td>2023_08_TB_BUF</td>\n      <td>176.0</td>\n      <td>-14.0</td>\n      <td>24.0</td>\n      <td>0.011057</td>\n    </tr>\n    <tr>\n      <th>965149</th>\n      <td>2023_08_TB_BUF</td>\n      <td>132.0</td>\n      <td>6.0</td>\n      <td>57.0</td>\n      <td>0.976000</td>\n    </tr>\n    <tr>\n      <th>965155</th>\n      <td>2023_08_TB_BUF</td>\n      <td>8.0</td>\n      <td>-6.0</td>\n      <td>68.0</td>\n      <td>0.024947</td>\n    </tr>\n  </tbody>\n</table>\n<p>241290 rows × 5 columns</p>\n</div>"
     },
     "execution_count": 12,
     "metadata": {},
     "output_type": "execute_result"
    }
   ],
   "source": [
    "test_df.loc[test_df['win_probability'].notna()]"
   ],
   "metadata": {
    "collapsed": false,
    "ExecuteTime": {
     "end_time": "2023-11-26T19:07:19.293590300Z",
     "start_time": "2023-11-26T19:07:19.258089100Z"
    }
   },
   "id": "e018fbfa3639dfd5"
  },
  {
   "cell_type": "code",
   "execution_count": 13,
   "outputs": [
    {
     "name": "stdout",
     "output_type": "stream",
     "text": [
      "Log Loss: 0.459\n",
      "Error: 0.2254\n",
      "Area Under Curve: 0.8642\n"
     ]
    }
   ],
   "source": [
    "print(\"Log Loss: \" + str(round(sum(scores['validation_1']['logloss']) / len(scores['validation_1']['logloss']), 4)))\n",
    "print(\"Error: \" + str(round(sum(scores['validation_1']['error']) / len(scores['validation_1']['error']), 4)))\n",
    "print(\"Area Under Curve: \" + str(round(sum(scores['validation_1']['auc']) / len(scores['validation_1']['auc']), 4)))"
   ],
   "metadata": {
    "collapsed": false,
    "ExecuteTime": {
     "end_time": "2023-11-26T19:07:22.803909Z",
     "start_time": "2023-11-26T19:07:22.746960300Z"
    }
   },
   "id": "da5a9cfdbef0c0b6"
  },
  {
   "cell_type": "markdown",
   "source": [
    "# Model Results: Stratified split by game id"
   ],
   "metadata": {
    "collapsed": false
   },
   "id": "fa1bfc0529b78990"
  },
  {
   "cell_type": "code",
   "execution_count": 14,
   "outputs": [
    {
     "name": "stdout",
     "output_type": "stream",
     "text": [
      "[0]\tvalidation_0-logloss:0.67714\tvalidation_0-auc:0.82926\tvalidation_0-error:0.26146\tvalidation_1-logloss:0.67714\tvalidation_1-auc:0.82858\tvalidation_1-error:0.26222\n",
      "[50]\tvalidation_0-logloss:0.47806\tvalidation_0-auc:0.86147\tvalidation_0-error:0.22745\tvalidation_1-logloss:0.47922\tvalidation_1-auc:0.86012\tvalidation_1-error:0.22922\n",
      "[100]\tvalidation_0-logloss:0.45667\tvalidation_0-auc:0.86333\tvalidation_0-error:0.22575\tvalidation_1-logloss:0.45840\tvalidation_1-auc:0.86183\tvalidation_1-error:0.22756\n",
      "[150]\tvalidation_0-logloss:0.45203\tvalidation_0-auc:0.86475\tvalidation_0-error:0.22452\tvalidation_1-logloss:0.45407\tvalidation_1-auc:0.86315\tvalidation_1-error:0.22652\n",
      "[200]\tvalidation_0-logloss:0.45027\tvalidation_0-auc:0.86548\tvalidation_0-error:0.22407\tvalidation_1-logloss:0.45254\tvalidation_1-auc:0.86380\tvalidation_1-error:0.22600\n",
      "[250]\tvalidation_0-logloss:0.44921\tvalidation_0-auc:0.86600\tvalidation_0-error:0.22365\tvalidation_1-logloss:0.45162\tvalidation_1-auc:0.86427\tvalidation_1-error:0.22554\n",
      "[300]\tvalidation_0-logloss:0.44830\tvalidation_0-auc:0.86647\tvalidation_0-error:0.22329\tvalidation_1-logloss:0.45085\tvalidation_1-auc:0.86469\tvalidation_1-error:0.22539\n",
      "[350]\tvalidation_0-logloss:0.44778\tvalidation_0-auc:0.86674\tvalidation_0-error:0.22310\tvalidation_1-logloss:0.45046\tvalidation_1-auc:0.86489\tvalidation_1-error:0.22512\n",
      "[400]\tvalidation_0-logloss:0.44755\tvalidation_0-auc:0.86687\tvalidation_0-error:0.22300\tvalidation_1-logloss:0.45029\tvalidation_1-auc:0.86499\tvalidation_1-error:0.22507\n",
      "[450]\tvalidation_0-logloss:0.44745\tvalidation_0-auc:0.86691\tvalidation_0-error:0.22294\tvalidation_1-logloss:0.45021\tvalidation_1-auc:0.86502\tvalidation_1-error:0.22499\n",
      "[500]\tvalidation_0-logloss:0.44745\tvalidation_0-auc:0.86691\tvalidation_0-error:0.22294\tvalidation_1-logloss:0.45021\tvalidation_1-auc:0.86502\tvalidation_1-error:0.22499\n",
      "[550]\tvalidation_0-logloss:0.44745\tvalidation_0-auc:0.86691\tvalidation_0-error:0.22294\tvalidation_1-logloss:0.45021\tvalidation_1-auc:0.86502\tvalidation_1-error:0.22499\n",
      "[600]\tvalidation_0-logloss:0.44745\tvalidation_0-auc:0.86691\tvalidation_0-error:0.22294\tvalidation_1-logloss:0.45021\tvalidation_1-auc:0.86502\tvalidation_1-error:0.22499\n",
      "[629]\tvalidation_0-logloss:0.44745\tvalidation_0-auc:0.86691\tvalidation_0-error:0.22294\tvalidation_1-logloss:0.45021\tvalidation_1-auc:0.86502\tvalidation_1-error:0.22499\n"
     ]
    }
   ],
   "source": [
    "wp_model = WPModel()\n",
    "cal_data = wp_model.import_calibration_data()\n",
    "X = cal_data.loc[:, ~cal_data.columns.isin(['season', 'game_id', 'label', 'home_team', 'away_team'])]\n",
    "y = cal_data['label']\n",
    "groups = cal_data['game_id']\n",
    "\n",
    "X_train, X_test, y_train, y_test = train_test_split(X, y, random_state=42, stratify=groups)\n",
    "\n",
    "clf = wp_model.train(X_train, y_train, X_test, y_test)\n",
    "scores = clf.evals_result()\n",
    "wp_preds = clf.predict_proba(X_test, validate_features=True)\n",
    "\n",
    "scores = clf.evals_result()\n",
    "wp_preds = clf.predict_proba(X_test, validate_features=True)"
   ],
   "metadata": {
    "collapsed": false,
    "ExecuteTime": {
     "end_time": "2023-11-26T19:08:39.937714800Z",
     "start_time": "2023-11-26T19:07:31.996684300Z"
    }
   },
   "id": "52c3e5671c6cab98"
  },
  {
   "cell_type": "code",
   "execution_count": 15,
   "outputs": [
    {
     "data": {
      "text/plain": "                game_id  game_seconds_remaining  score_differential  \\\n0       1999_01_ARI_PHI                  3600.0                 0.0   \n2       1999_01_ARI_PHI                  3600.0                 0.0   \n5       1999_01_ARI_PHI                  3487.0                 0.0   \n8       1999_01_ARI_PHI                  3487.0                 0.0   \n9       1999_01_ARI_PHI                  3388.0                 0.0   \n...                 ...                     ...                 ...   \n965143   2023_08_TB_BUF                   179.0               -14.0   \n965144   2023_08_TB_BUF                   176.0               -14.0   \n965145   2023_08_TB_BUF                   171.0               -14.0   \n965147   2023_08_TB_BUF                   156.0                 6.0   \n965154   2023_08_TB_BUF                    16.0                -6.0   \n\n        yardline_100  win_probability  \n0               77.0         0.340157  \n2               76.0         0.308291  \n5               81.0         0.688429  \n8               76.0         0.642371  \n9               59.0         0.369005  \n...              ...              ...  \n965143          24.0         0.014683  \n965144          24.0         0.013402  \n965145          24.0         0.010199  \n965147          73.0         0.918032  \n965154          73.0         0.025143  \n\n[241290 rows x 5 columns]",
      "text/html": "<div>\n<style scoped>\n    .dataframe tbody tr th:only-of-type {\n        vertical-align: middle;\n    }\n\n    .dataframe tbody tr th {\n        vertical-align: top;\n    }\n\n    .dataframe thead th {\n        text-align: right;\n    }\n</style>\n<table border=\"1\" class=\"dataframe\">\n  <thead>\n    <tr style=\"text-align: right;\">\n      <th></th>\n      <th>game_id</th>\n      <th>game_seconds_remaining</th>\n      <th>score_differential</th>\n      <th>yardline_100</th>\n      <th>win_probability</th>\n    </tr>\n  </thead>\n  <tbody>\n    <tr>\n      <th>0</th>\n      <td>1999_01_ARI_PHI</td>\n      <td>3600.0</td>\n      <td>0.0</td>\n      <td>77.0</td>\n      <td>0.340157</td>\n    </tr>\n    <tr>\n      <th>2</th>\n      <td>1999_01_ARI_PHI</td>\n      <td>3600.0</td>\n      <td>0.0</td>\n      <td>76.0</td>\n      <td>0.308291</td>\n    </tr>\n    <tr>\n      <th>5</th>\n      <td>1999_01_ARI_PHI</td>\n      <td>3487.0</td>\n      <td>0.0</td>\n      <td>81.0</td>\n      <td>0.688429</td>\n    </tr>\n    <tr>\n      <th>8</th>\n      <td>1999_01_ARI_PHI</td>\n      <td>3487.0</td>\n      <td>0.0</td>\n      <td>76.0</td>\n      <td>0.642371</td>\n    </tr>\n    <tr>\n      <th>9</th>\n      <td>1999_01_ARI_PHI</td>\n      <td>3388.0</td>\n      <td>0.0</td>\n      <td>59.0</td>\n      <td>0.369005</td>\n    </tr>\n    <tr>\n      <th>...</th>\n      <td>...</td>\n      <td>...</td>\n      <td>...</td>\n      <td>...</td>\n      <td>...</td>\n    </tr>\n    <tr>\n      <th>965143</th>\n      <td>2023_08_TB_BUF</td>\n      <td>179.0</td>\n      <td>-14.0</td>\n      <td>24.0</td>\n      <td>0.014683</td>\n    </tr>\n    <tr>\n      <th>965144</th>\n      <td>2023_08_TB_BUF</td>\n      <td>176.0</td>\n      <td>-14.0</td>\n      <td>24.0</td>\n      <td>0.013402</td>\n    </tr>\n    <tr>\n      <th>965145</th>\n      <td>2023_08_TB_BUF</td>\n      <td>171.0</td>\n      <td>-14.0</td>\n      <td>24.0</td>\n      <td>0.010199</td>\n    </tr>\n    <tr>\n      <th>965147</th>\n      <td>2023_08_TB_BUF</td>\n      <td>156.0</td>\n      <td>6.0</td>\n      <td>73.0</td>\n      <td>0.918032</td>\n    </tr>\n    <tr>\n      <th>965154</th>\n      <td>2023_08_TB_BUF</td>\n      <td>16.0</td>\n      <td>-6.0</td>\n      <td>73.0</td>\n      <td>0.025143</td>\n    </tr>\n  </tbody>\n</table>\n<p>241290 rows × 5 columns</p>\n</div>"
     },
     "execution_count": 15,
     "metadata": {},
     "output_type": "execute_result"
    }
   ],
   "source": [
    "X_test['wp'] = wp_preds[:,1]\n",
    "cal_data['win_probability'] = X_test['wp']\n",
    "cols = ['game_id', 'game_seconds_remaining', 'score_differential', 'yardline_100', 'win_probability']\n",
    "test_df = cal_data.filter(items=cols)\n",
    "test_df.loc[test_df['win_probability'].notna()]"
   ],
   "metadata": {
    "collapsed": false,
    "ExecuteTime": {
     "end_time": "2023-11-26T19:08:39.994235300Z",
     "start_time": "2023-11-26T19:08:39.937714800Z"
    }
   },
   "id": "5d55133a5a688b46"
  },
  {
   "cell_type": "code",
   "execution_count": 16,
   "outputs": [
    {
     "name": "stdout",
     "output_type": "stream",
     "text": [
      "Log Loss: 0.4594\n",
      "Error: 0.2264\n",
      "Area Under Curve: 0.8635\n"
     ]
    }
   ],
   "source": [
    "print(\"Log Loss: \" + str(round(sum(scores['validation_1']['logloss']) / len(scores['validation_1']['logloss']), 4)))\n",
    "print(\"Error: \" + str(round(sum(scores['validation_1']['error']) / len(scores['validation_1']['error']), 4)))\n",
    "print(\"Area Under Curve: \" + str(round(sum(scores['validation_1']['auc']) / len(scores['validation_1']['auc']), 4)))"
   ],
   "metadata": {
    "collapsed": false,
    "ExecuteTime": {
     "end_time": "2023-11-26T19:08:39.994737200Z",
     "start_time": "2023-11-26T19:08:39.989739500Z"
    }
   },
   "id": "1f16ba3d7d197e5b"
  },
  {
   "cell_type": "markdown",
   "source": [
    "# Model Results: GroupKFold"
   ],
   "metadata": {
    "collapsed": false
   },
   "id": "15adbec7c517dd61"
  },
  {
   "cell_type": "code",
   "execution_count": 17,
   "outputs": [
    {
     "name": "stdout",
     "output_type": "stream",
     "text": [
      "[0]\tvalidation_0-logloss:0.67739\tvalidation_0-auc:0.82634\tvalidation_0-error:0.26525\tvalidation_1-logloss:0.67654\tvalidation_1-auc:0.84121\tvalidation_1-error:0.25253\n",
      "[50]\tvalidation_0-logloss:0.48214\tvalidation_0-auc:0.85813\tvalidation_0-error:0.23143\tvalidation_1-logloss:0.46683\tvalidation_1-auc:0.87317\tvalidation_1-error:0.21397\n",
      "[100]\tvalidation_0-logloss:0.46103\tvalidation_0-auc:0.86008\tvalidation_0-error:0.22948\tvalidation_1-logloss:0.44295\tvalidation_1-auc:0.87444\tvalidation_1-error:0.21339\n",
      "[150]\tvalidation_0-logloss:0.45646\tvalidation_0-auc:0.86153\tvalidation_0-error:0.22815\tvalidation_1-logloss:0.43825\tvalidation_1-auc:0.87533\tvalidation_1-error:0.21205\n",
      "[200]\tvalidation_0-logloss:0.45475\tvalidation_0-auc:0.86226\tvalidation_0-error:0.22758\tvalidation_1-logloss:0.43695\tvalidation_1-auc:0.87566\tvalidation_1-error:0.21171\n",
      "[250]\tvalidation_0-logloss:0.45371\tvalidation_0-auc:0.86278\tvalidation_0-error:0.22724\tvalidation_1-logloss:0.43634\tvalidation_1-auc:0.87582\tvalidation_1-error:0.21154\n",
      "[300]\tvalidation_0-logloss:0.45274\tvalidation_0-auc:0.86329\tvalidation_0-error:0.22705\tvalidation_1-logloss:0.43581\tvalidation_1-auc:0.87600\tvalidation_1-error:0.21147\n",
      "[350]\tvalidation_0-logloss:0.45223\tvalidation_0-auc:0.86355\tvalidation_0-error:0.22690\tvalidation_1-logloss:0.43556\tvalidation_1-auc:0.87607\tvalidation_1-error:0.21139\n",
      "[400]\tvalidation_0-logloss:0.45184\tvalidation_0-auc:0.86378\tvalidation_0-error:0.22676\tvalidation_1-logloss:0.43534\tvalidation_1-auc:0.87615\tvalidation_1-error:0.21136\n",
      "[450]\tvalidation_0-logloss:0.45184\tvalidation_0-auc:0.86378\tvalidation_0-error:0.22676\tvalidation_1-logloss:0.43534\tvalidation_1-auc:0.87615\tvalidation_1-error:0.21136\n",
      "[500]\tvalidation_0-logloss:0.45184\tvalidation_0-auc:0.86378\tvalidation_0-error:0.22676\tvalidation_1-logloss:0.43534\tvalidation_1-auc:0.87615\tvalidation_1-error:0.21137\n",
      "[550]\tvalidation_0-logloss:0.45184\tvalidation_0-auc:0.86378\tvalidation_0-error:0.22676\tvalidation_1-logloss:0.43534\tvalidation_1-auc:0.87615\tvalidation_1-error:0.21137\n",
      "[554]\tvalidation_0-logloss:0.45184\tvalidation_0-auc:0.86378\tvalidation_0-error:0.22676\tvalidation_1-logloss:0.43534\tvalidation_1-auc:0.87615\tvalidation_1-error:0.21137\n"
     ]
    }
   ],
   "source": [
    "from sklearn.model_selection import GroupKFold\n",
    "\n",
    "wp_model = WPModel()\n",
    "cal_data = wp_model.import_calibration_data()\n",
    "X = cal_data.loc[:, ~cal_data.columns.isin(['season', 'game_id', 'label', 'home_team', 'away_team'])]\n",
    "y = cal_data['label']\n",
    "groups = cal_data['game_id']\n",
    "\n",
    "group_fold = GroupKFold(n_splits=5)\n",
    "for train_index, test_index in group_fold.split(X, y, groups):\n",
    "    X_train, X_test = X.iloc[train_index], X.iloc[test_index]\n",
    "    y_train, y_test = y.iloc[train_index], y.iloc[test_index]\n",
    "\n",
    "clf = wp_model.train(X_train, y_train, X_test, y_test)\n",
    "scores = clf.evals_result()\n",
    "wp_preds = clf.predict_proba(X_test, validate_features=True)\n",
    "\n",
    "scores = clf.evals_result()\n",
    "wp_preds = clf.predict_proba(X_test, validate_features=True)"
   ],
   "metadata": {
    "collapsed": false,
    "ExecuteTime": {
     "end_time": "2023-11-26T19:09:38.489334300Z",
     "start_time": "2023-11-26T19:08:39.993736500Z"
    }
   },
   "id": "182ba0620340b067"
  },
  {
   "cell_type": "code",
   "execution_count": 18,
   "outputs": [
    {
     "name": "stderr",
     "output_type": "stream",
     "text": [
      "/tmp/ipykernel_1375/1032454380.py:1: SettingWithCopyWarning: \n",
      "A value is trying to be set on a copy of a slice from a DataFrame.\n",
      "Try using .loc[row_indexer,col_indexer] = value instead\n",
      "\n",
      "See the caveats in the documentation: https://pandas.pydata.org/pandas-docs/stable/user_guide/indexing.html#returning-a-view-versus-a-copy\n",
      "  X_test['wp'] = wp_preds[:,1]\n"
     ]
    },
    {
     "data": {
      "text/plain": "                game_id  game_seconds_remaining  score_differential  \\\n626     1999_01_DAL_WAS                  3600.0                 0.0   \n627     1999_01_DAL_WAS                  3600.0                 0.0   \n628     1999_01_DAL_WAS                  3600.0                 0.0   \n629     1999_01_DAL_WAS                  3600.0                 0.0   \n630     1999_01_DAL_WAS                  3600.0                 0.0   \n...                 ...                     ...                 ...   \n964696   2023_07_PIT_LA                   179.0                 7.0   \n964697   2023_07_PIT_LA                   144.0                 7.0   \n964698   2023_07_PIT_LA                   120.0                 7.0   \n964699   2023_07_PIT_LA                    78.0                 7.0   \n964700   2023_07_PIT_LA                    37.0                 7.0   \n\n        yardline_100  win_probability  \n626             70.0         0.624708  \n627             64.0         0.639683  \n628             58.0         0.639109  \n629             49.0         0.681796  \n630             45.0         0.667498  \n...              ...              ...  \n964696          46.0         0.930347  \n964697          39.0         0.940913  \n964698          38.0         0.984208  \n964699          40.0         0.986992  \n964700          41.0         0.986950  \n\n[193031 rows x 5 columns]",
      "text/html": "<div>\n<style scoped>\n    .dataframe tbody tr th:only-of-type {\n        vertical-align: middle;\n    }\n\n    .dataframe tbody tr th {\n        vertical-align: top;\n    }\n\n    .dataframe thead th {\n        text-align: right;\n    }\n</style>\n<table border=\"1\" class=\"dataframe\">\n  <thead>\n    <tr style=\"text-align: right;\">\n      <th></th>\n      <th>game_id</th>\n      <th>game_seconds_remaining</th>\n      <th>score_differential</th>\n      <th>yardline_100</th>\n      <th>win_probability</th>\n    </tr>\n  </thead>\n  <tbody>\n    <tr>\n      <th>626</th>\n      <td>1999_01_DAL_WAS</td>\n      <td>3600.0</td>\n      <td>0.0</td>\n      <td>70.0</td>\n      <td>0.624708</td>\n    </tr>\n    <tr>\n      <th>627</th>\n      <td>1999_01_DAL_WAS</td>\n      <td>3600.0</td>\n      <td>0.0</td>\n      <td>64.0</td>\n      <td>0.639683</td>\n    </tr>\n    <tr>\n      <th>628</th>\n      <td>1999_01_DAL_WAS</td>\n      <td>3600.0</td>\n      <td>0.0</td>\n      <td>58.0</td>\n      <td>0.639109</td>\n    </tr>\n    <tr>\n      <th>629</th>\n      <td>1999_01_DAL_WAS</td>\n      <td>3600.0</td>\n      <td>0.0</td>\n      <td>49.0</td>\n      <td>0.681796</td>\n    </tr>\n    <tr>\n      <th>630</th>\n      <td>1999_01_DAL_WAS</td>\n      <td>3600.0</td>\n      <td>0.0</td>\n      <td>45.0</td>\n      <td>0.667498</td>\n    </tr>\n    <tr>\n      <th>...</th>\n      <td>...</td>\n      <td>...</td>\n      <td>...</td>\n      <td>...</td>\n      <td>...</td>\n    </tr>\n    <tr>\n      <th>964696</th>\n      <td>2023_07_PIT_LA</td>\n      <td>179.0</td>\n      <td>7.0</td>\n      <td>46.0</td>\n      <td>0.930347</td>\n    </tr>\n    <tr>\n      <th>964697</th>\n      <td>2023_07_PIT_LA</td>\n      <td>144.0</td>\n      <td>7.0</td>\n      <td>39.0</td>\n      <td>0.940913</td>\n    </tr>\n    <tr>\n      <th>964698</th>\n      <td>2023_07_PIT_LA</td>\n      <td>120.0</td>\n      <td>7.0</td>\n      <td>38.0</td>\n      <td>0.984208</td>\n    </tr>\n    <tr>\n      <th>964699</th>\n      <td>2023_07_PIT_LA</td>\n      <td>78.0</td>\n      <td>7.0</td>\n      <td>40.0</td>\n      <td>0.986992</td>\n    </tr>\n    <tr>\n      <th>964700</th>\n      <td>2023_07_PIT_LA</td>\n      <td>37.0</td>\n      <td>7.0</td>\n      <td>41.0</td>\n      <td>0.986950</td>\n    </tr>\n  </tbody>\n</table>\n<p>193031 rows × 5 columns</p>\n</div>"
     },
     "execution_count": 18,
     "metadata": {},
     "output_type": "execute_result"
    }
   ],
   "source": [
    "X_test['wp'] = wp_preds[:,1]\n",
    "cal_data['win_probability'] = X_test['wp']\n",
    "cols = ['game_id', 'game_seconds_remaining', 'score_differential', 'yardline_100', 'win_probability']\n",
    "test_df = cal_data.filter(items=cols)\n",
    "test_df.loc[test_df['win_probability'].notna()]"
   ],
   "metadata": {
    "collapsed": false,
    "ExecuteTime": {
     "end_time": "2023-11-26T19:09:38.529855800Z",
     "start_time": "2023-11-26T19:09:38.492335600Z"
    }
   },
   "id": "2071fd2f2bc0e8c7"
  },
  {
   "cell_type": "code",
   "execution_count": 19,
   "outputs": [
    {
     "name": "stdout",
     "output_type": "stream",
     "text": [
      "Log Loss: 0.4462\n",
      "Error: 0.2125\n",
      "Area Under Curve: 0.8751\n"
     ]
    }
   ],
   "source": [
    "print(\"Log Loss: \" + str(round(sum(scores['validation_1']['logloss']) / len(scores['validation_1']['logloss']), 4)))\n",
    "print(\"Error: \" + str(round(sum(scores['validation_1']['error']) / len(scores['validation_1']['error']), 4)))\n",
    "print(\"Area Under Curve: \" + str(round(sum(scores['validation_1']['auc']) / len(scores['validation_1']['auc']), 4)))"
   ],
   "metadata": {
    "collapsed": false,
    "ExecuteTime": {
     "end_time": "2023-11-26T19:09:38.594165600Z",
     "start_time": "2023-11-26T19:09:38.523354400Z"
    }
   },
   "id": "3e826ded14ed0ca1"
  }
 ],
 "metadata": {
  "kernelspec": {
   "display_name": "Python 3",
   "language": "python",
   "name": "python3"
  },
  "language_info": {
   "codemirror_mode": {
    "name": "ipython",
    "version": 2
   },
   "file_extension": ".py",
   "mimetype": "text/x-python",
   "name": "python",
   "nbconvert_exporter": "python",
   "pygments_lexer": "ipython2",
   "version": "2.7.6"
  }
 },
 "nbformat": 4,
 "nbformat_minor": 5
}
