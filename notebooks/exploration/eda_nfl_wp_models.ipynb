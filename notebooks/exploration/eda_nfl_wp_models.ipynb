{
 "cells": [
  {
   "cell_type": "markdown",
   "source": [
    "# Exploratory Data Analysis for NFL Win Probability Model\n",
    "\n",
    "## Introduction\n",
    "\n",
    "This notebook aims to create a win probability model using NFL play-by-play data, inspired by the work detailed in the Open Source Football blog posts. Our approach involves converting the methodology from R to Python, and adapting the XGBoost model from its original API to the Scikit-Learn API interface. The purpose of this analysis is to evaluate the feasibility and performance of these models in Python, provide a comparative analysis, and lay the groundwork for future productization.\n",
    "\n",
    "## Citing Original Works\n",
    "\n",
    "The foundation of this analysis is based on the blog posts:\n",
    "\n",
    "1. Creating a Model from Scratch Using XGBoost in R\n",
    "2. NFLfastr: EP, WP, and CP Models\n",
    "\n",
    "Additionally, portions of the code have been adapted from the nflverse project, a comprehensive collection of open-source NFL data projects.\n",
    "\n",
    "## Methodology\n",
    "\n",
    "### Data Preparation\n",
    "\n",
    "We begin by preparing the NFL play-by-play data, ensuring that the data structure and quality align with the requirements for accurate model training.\n",
    "\n",
    "### Model Building\n",
    "\n",
    "We then proceed to build the Win Probability model using Python and the XGBoost Scikit-Learn API. This involves selecting features, tuning parameters, and training the model on historical data.\n",
    "\n",
    "### Model Comparison\n",
    "\n",
    "The results of the original model's performance after tuning and adding monotone constraints showed that the best log loss scores were around 0.44787 without a monotone constraint on spread_time and 0.44826 with a monotone constraint. These results indicate a high level of model accuracy and effectiveness in predicting win probabilities.\n",
    "\n",
    "Ease of implementation\n",
    "Model performance metrics\n",
    "Flexibility in hyperparameter tuning\n",
    "\n",
    "### Mathematical Formulation\n",
    "\n",
    "The underlying mathematical model of XGBoost involves gradient boosting, where the model iteratively improves predictions based on the gradients of the loss function. In simple terms, the model learns from its mistakes in each iteration to make better predictions in the next.\n",
    "\n",
    "$$\n",
    "L(\\theta) = \\sum_{i=1}^{n} l(y_i, \\hat{y_i}(\\theta)) + \\sum_{k=1}^{K} \\Omega(f_k)\n",
    "$$\n",
    "\n",
    "Where L is the loss function, y_i are the true values, \\hat{y_i} are the predicted values, f_k are the model's trees, and \\Omega represents the regularization term.\n",
    "\n",
    "## Class Definitions\n",
    "\n",
    "I start by defining a `WPModel` class in Python. This class encapsulates the model's configuration, including hyperparameters and constraints. This approach allows for organized and reusable code, making the model training and evaluation process more streamlined and maintainable."
   ],
   "metadata": {
    "collapsed": false
   },
   "id": "45d5d0380945c7a"
  },
  {
   "cell_type": "code",
   "outputs": [],
   "source": [
    "import pandas as pd\n",
    "import xgboost as xgb\n",
    "\n",
    "\n",
    "class WPModel:\n",
    "    def __init__(self):\n",
    "        self.wp_spread_model = None\n",
    "        self.wp_spread_model_path = 'models/wp_spread_model.json'\n",
    "        self.n_rounds = 15000\n",
    "        self.wp_spread_monotone_constraints = {\n",
    "            'receive_2h_ko': 0,\n",
    "            'spread_time': 1,\n",
    "            'home': 0,\n",
    "            'half_seconds_remaining': 0,\n",
    "            'game_seconds_remaining': 0,\n",
    "            'Diff_Time_Ratio': 1,\n",
    "            'score_differential': 1,\n",
    "            'down': -1,\n",
    "            'ydstogo': -1,\n",
    "            'yardline_100': -1,\n",
    "            'posteam_timeouts_remaining': 1,\n",
    "            'defteam_timeouts_remaining': -1\n",
    "        }\n",
    "        self.wp_model_parameters = {\n",
    "            'n_estimators': self.n_rounds,\n",
    "            'booster': 'gbtree',\n",
    "            'device': 'cuda',\n",
    "            'objective': 'binary:logistic',\n",
    "            'tree_method': 'approx',\n",
    "            'grow_policy': 'lossguide',\n",
    "            'sampling_method': 'gradient_based',\n",
    "            'eval_metric': ['logloss', 'auc', 'error'],\n",
    "            'early_stopping_rounds': 200,\n",
    "            'learning_rate': 0.05,\n",
    "            'gamma': 0.79012017,\n",
    "            'subsample': 0.9224245,\n",
    "            'colsample_bytree': 5 / 12,\n",
    "            'max_depth': 5,\n",
    "            'min_child_weight': 7,\n",
    "            'monotone_constraints': self.wp_spread_monotone_constraints\n",
    "        }\n",
    "        self.drop_columns = ['season', 'game_id', 'label']\n",
    "\n",
    "    def train(self, X, y):\n",
    "        clf = xgb.XGBClassifier(**self.wp_model_parameters)\n",
    "        clf.fit(X, y,  eval_set=[(X, y)], verbose=50)\n",
    "        return clf"
   ],
   "metadata": {
    "collapsed": false,
    "ExecuteTime": {
     "end_time": "2024-02-04T03:34:02.285316400Z",
     "start_time": "2024-02-04T03:34:02.268316900Z"
    }
   },
   "id": "b9e0d7795a166a25",
   "execution_count": 53
  },
  {
   "cell_type": "markdown",
   "source": [
    "## Model Training Process\n",
    "\n",
    "The training process involves splitting the data into training and testing sets. Different strategies are employed for splitting, such as using `GroupKFold` for splitting by `game_id`, which ensures that games are not split across training and testing sets, avoiding data leakage. This method is crucial for maintaining the integrity of the model's evaluation.\n",
    "\n",
    "## Model Evaluation Metrics\n",
    "\n",
    "I evaluated the model using metrics such as Log Loss, Error, and Area Under Curve (AUC). These metrics provide a comprehensive understanding of the model's performance, highlighting its predictive accuracy, error rate, and the trade-off between true positive rate and false positive rate.\n",
    "\n",
    "\n",
    "## Comparative Analysis of Different Model Implementations\n",
    "\n",
    "This section compares different implementations of the model, particularly focusing on the use of XGBoost's Scikit-Learn API. The comparison is based on performance metrics and training strategies, offering insights into the strengths and weaknesses of each approach."
   ],
   "metadata": {
    "collapsed": false
   },
   "id": "f515383534bf3087"
  },
  {
   "cell_type": "markdown",
   "source": [
    "# Data Preparation\n",
    "\n",
    "## Analyzing the Reference Calibration Data\n",
    "\n",
    "The original calibration data is loaded and analyzed to understand its structure and contents. The data consists of various features, including game_id, season, label, home_team, away_team, and other play-by-play details. This data is crucial for training and calibrating the win probability model.  \n",
    "\n",
    "### Import Reference Calibration Data"
   ],
   "metadata": {
    "collapsed": false
   },
   "id": "3f75fddf24b1f7c5"
  },
  {
   "cell_type": "code",
   "outputs": [],
   "source": [
    "from utils.data_utils import REFERENCE_CAL_DATA_URL, import_rds, save_to_csv\n",
    "\n",
    "REFERENCE_CAL_DATA_RDS_PATH = 'tests/validation/calibration_data/cal_data.rds'\n",
    "REFERENCE_CAL_DATA_CSV_PATH = 'tests/validation/calibration_data/reference_cal_data.csv'\n",
    "CAL_DATA_PATH = 'tests/validation/calibration_data/cal_data.csv'\n",
    "\n",
    "reference_cal_data = import_rds(REFERENCE_CAL_DATA_URL, REFERENCE_CAL_DATA_RDS_PATH)\n",
    "\n",
    "# save reference calibration data to CSV\n",
    "save_to_csv(reference_cal_data, REFERENCE_CAL_DATA_CSV_PATH)"
   ],
   "metadata": {
    "collapsed": false,
    "ExecuteTime": {
     "end_time": "2024-02-04T02:27:20.097853600Z",
     "start_time": "2024-02-04T02:27:07.699025600Z"
    }
   },
   "id": "47232b6075eb161b",
   "execution_count": 2
  },
  {
   "cell_type": "code",
   "outputs": [
    {
     "name": "stdout",
     "output_type": "stream",
     "text": [
      "Downcasting floats.\n"
     ]
    }
   ],
   "source": [
    "from utils.data_utils import import_pbp_data\n",
    "from utils.calibration import create_wp_calibration_data\n",
    "\n",
    "# import PBP data\n",
    "start =1999\n",
    "end = 2023\n",
    "\n",
    "pbp_data = import_pbp_data(start, end)\n",
    "cal_data = create_wp_calibration_data(pbp_data)\n",
    "\n",
    "dtypes = reference_cal_data.dtypes.to_dict()\n",
    "cal_data = cal_data.astype(dtypes)\n",
    "\n",
    "# create test calibration data that matches reference calibration data set\n",
    "ref_start = reference_cal_data['season'].min()\n",
    "ref_end = reference_cal_data['season'].max()\n",
    "test_cal_data = cal_data.loc[(cal_data['season'] >= ref_start) & (cal_data['season'] <= ref_end)]\n",
    "\n",
    "# save test calibration data to CSV\n",
    "save_to_csv(test_cal_data, CAL_DATA_PATH)"
   ],
   "metadata": {
    "collapsed": false,
    "ExecuteTime": {
     "end_time": "2024-02-04T02:28:22.563610700Z",
     "start_time": "2024-02-04T02:27:20.377729100Z"
    }
   },
   "id": "efd47cdf9646d53d",
   "execution_count": 4
  },
  {
   "cell_type": "markdown",
   "source": [
    "### Validate the Calibration Data\n",
    "\n",
    "Validation is performed via a pytest suite that contains the following test cases:\n",
    "\n",
    "1. Test that the calibration data has the correct number of rows and columns.\n",
    "2. Test that the calibration data has the correct column names.\n",
    "3. Test that the calibration data has the correct data types.\n",
    "4. Test that the calibration data has the correct number of missing values.\n",
    "\n",
    "If the validation is successful, we can move forward with data preprocessing and model building."
   ],
   "metadata": {
    "collapsed": false
   },
   "id": "7e613cf2f70cd0f5"
  },
  {
   "cell_type": "code",
   "outputs": [
    {
     "name": "stdout",
     "output_type": "stream",
     "text": [
      "\u001B[1m============================= test session starts ==============================\u001B[0m\r\n",
      "platform linux -- Python 3.10.12, pytest-8.0.0, pluggy-1.3.0 -- /home/dev/.virtualenvs/nfl-data-models/bin/python\r\n",
      "cachedir: .pytest_cache\r\n",
      "rootdir: /mnt/c/Users/Jonathan Bailey/PycharmProjects/nfl-data-models\r\n",
      "configfile: setup.cfg\r\n",
      "plugins: anyio-4.0.0, dash-2.14.2\r\n",
      "collected 4 items                                                              \u001B[0m\r\n",
      "\r\n",
      "tests/validation/test_data_validation.py::TestWPCalDataValidation::test_compare_column_types_to_reference \u001B[32mPASSED\u001B[0m\u001B[32m [ 25%]\u001B[0m\r\n",
      "tests/validation/test_data_validation.py::TestWPCalDataValidation::test_compare_columns_to_reference \u001B[32mPASSED\u001B[0m\u001B[32m [ 50%]\u001B[0m\r\n",
      "tests/validation/test_data_validation.py::TestWPCalDataValidation::test_compare_missing_values_in_each_column_to_reference \u001B[32mPASSED\u001B[0m\u001B[32m [ 75%]\u001B[0m\r\n",
      "tests/validation/test_data_validation.py::TestWPCalDataValidation::test_compare_shape_to_reference \u001B[32mPASSED\u001B[0m\u001B[32m [100%]\u001B[0m\r\n",
      "\r\n",
      "\u001B[32m============================== \u001B[32m\u001B[1m4 passed\u001B[0m\u001B[32m in 3.56s\u001B[0m\u001B[32m ===============================\u001B[0m\r\n"
     ]
    }
   ],
   "source": [
    "!source ~/.virtualenvs/nfl-data-models/bin/activate && pytest -v"
   ],
   "metadata": {
    "collapsed": false,
    "ExecuteTime": {
     "end_time": "2024-02-04T02:28:26.969972700Z",
     "start_time": "2024-02-04T02:28:22.567611200Z"
    }
   },
   "id": "c673aa4bee317bda",
   "execution_count": 5
  },
  {
   "cell_type": "markdown",
   "source": [
    "### Preprocessing the Calibration Data\n",
    "\n",
    "The calibration data is preprocessed to ensure that it aligns with the model's requirements. This involves handling missing values, encoding categorical variables, and scaling numerical features. The goal is to create a clean and consistent dataset that can be used for model training and evaluation."
   ],
   "metadata": {
    "collapsed": false
   },
   "id": "584111c8cec2ea0"
  },
  {
   "cell_type": "code",
   "outputs": [
    {
     "data": {
      "text/plain": "           game_id  label  receive_2h_ko  spread_time  home  \\\n1  1999_01_ARI_PHI      0              0         -3.0     1   \n2  1999_01_ARI_PHI      0              0         -3.0     1   \n3  1999_01_ARI_PHI      0              0         -3.0     1   \n4  1999_01_ARI_PHI      0              0         -3.0     1   \n5  1999_01_ARI_PHI      0              0         -3.0     1   \n\n   half_seconds_remaining  game_seconds_remaining  Diff_Time_Ratio  \\\n1                  1800.0                  3600.0              0.0   \n2                  1800.0                  3600.0              0.0   \n3                  1800.0                  3600.0              0.0   \n4                  1800.0                  3600.0              0.0   \n5                  1800.0                  3600.0              0.0   \n\n   score_differential  down  ydstogo  yardline_100  \\\n1                 0.0   1.0     10.0          77.0   \n2                 0.0   2.0     10.0          77.0   \n3                 0.0   3.0      9.0          76.0   \n4                 0.0   3.0     14.0          81.0   \n5                 0.0   4.0      4.0          71.0   \n\n   posteam_timeouts_remaining  defteam_timeouts_remaining  season  qtr  \n1                         3.0                         3.0    1999  1.0  \n2                         3.0                         3.0    1999  1.0  \n3                         3.0                         3.0    1999  1.0  \n4                         3.0                         3.0    1999  1.0  \n5                         3.0                         3.0    1999  1.0  ",
      "text/html": "<div>\n<style scoped>\n    .dataframe tbody tr th:only-of-type {\n        vertical-align: middle;\n    }\n\n    .dataframe tbody tr th {\n        vertical-align: top;\n    }\n\n    .dataframe thead th {\n        text-align: right;\n    }\n</style>\n<table border=\"1\" class=\"dataframe\">\n  <thead>\n    <tr style=\"text-align: right;\">\n      <th></th>\n      <th>game_id</th>\n      <th>label</th>\n      <th>receive_2h_ko</th>\n      <th>spread_time</th>\n      <th>home</th>\n      <th>half_seconds_remaining</th>\n      <th>game_seconds_remaining</th>\n      <th>Diff_Time_Ratio</th>\n      <th>score_differential</th>\n      <th>down</th>\n      <th>ydstogo</th>\n      <th>yardline_100</th>\n      <th>posteam_timeouts_remaining</th>\n      <th>defteam_timeouts_remaining</th>\n      <th>season</th>\n      <th>qtr</th>\n    </tr>\n  </thead>\n  <tbody>\n    <tr>\n      <th>1</th>\n      <td>1999_01_ARI_PHI</td>\n      <td>0</td>\n      <td>0</td>\n      <td>-3.0</td>\n      <td>1</td>\n      <td>1800.0</td>\n      <td>3600.0</td>\n      <td>0.0</td>\n      <td>0.0</td>\n      <td>1.0</td>\n      <td>10.0</td>\n      <td>77.0</td>\n      <td>3.0</td>\n      <td>3.0</td>\n      <td>1999</td>\n      <td>1.0</td>\n    </tr>\n    <tr>\n      <th>2</th>\n      <td>1999_01_ARI_PHI</td>\n      <td>0</td>\n      <td>0</td>\n      <td>-3.0</td>\n      <td>1</td>\n      <td>1800.0</td>\n      <td>3600.0</td>\n      <td>0.0</td>\n      <td>0.0</td>\n      <td>2.0</td>\n      <td>10.0</td>\n      <td>77.0</td>\n      <td>3.0</td>\n      <td>3.0</td>\n      <td>1999</td>\n      <td>1.0</td>\n    </tr>\n    <tr>\n      <th>3</th>\n      <td>1999_01_ARI_PHI</td>\n      <td>0</td>\n      <td>0</td>\n      <td>-3.0</td>\n      <td>1</td>\n      <td>1800.0</td>\n      <td>3600.0</td>\n      <td>0.0</td>\n      <td>0.0</td>\n      <td>3.0</td>\n      <td>9.0</td>\n      <td>76.0</td>\n      <td>3.0</td>\n      <td>3.0</td>\n      <td>1999</td>\n      <td>1.0</td>\n    </tr>\n    <tr>\n      <th>4</th>\n      <td>1999_01_ARI_PHI</td>\n      <td>0</td>\n      <td>0</td>\n      <td>-3.0</td>\n      <td>1</td>\n      <td>1800.0</td>\n      <td>3600.0</td>\n      <td>0.0</td>\n      <td>0.0</td>\n      <td>3.0</td>\n      <td>14.0</td>\n      <td>81.0</td>\n      <td>3.0</td>\n      <td>3.0</td>\n      <td>1999</td>\n      <td>1.0</td>\n    </tr>\n    <tr>\n      <th>5</th>\n      <td>1999_01_ARI_PHI</td>\n      <td>0</td>\n      <td>0</td>\n      <td>-3.0</td>\n      <td>1</td>\n      <td>1800.0</td>\n      <td>3600.0</td>\n      <td>0.0</td>\n      <td>0.0</td>\n      <td>4.0</td>\n      <td>4.0</td>\n      <td>71.0</td>\n      <td>3.0</td>\n      <td>3.0</td>\n      <td>1999</td>\n      <td>1.0</td>\n    </tr>\n  </tbody>\n</table>\n</div>"
     },
     "execution_count": 37,
     "metadata": {},
     "output_type": "execute_result"
    }
   ],
   "source": [
    "from utils.calibration import (\n",
    "    make_model_mutations,\n",
    "    prepare_wp_data,\n",
    "    add_label_column,\n",
    "    drop_rows\n",
    ")\n",
    "\n",
    "mutated_cal_data = make_model_mutations(cal_data)\n",
    "wp_cal_data = prepare_wp_data(mutated_cal_data)\n",
    "wp_cal_data = add_label_column(wp_cal_data)\n",
    "wp_cal_data = drop_rows(wp_cal_data)\n",
    "\n",
    "WP_CAL_DATA_COLS = ['game_id', 'label', 'receive_2h_ko', 'spread_time', 'home', 'half_seconds_remaining', 'game_seconds_remaining', 'Diff_Time_Ratio', 'score_differential', 'down', 'ydstogo', 'yardline_100', 'posteam_timeouts_remaining', 'defteam_timeouts_remaining', 'season', 'qtr']\n",
    "wp_cal_data = wp_cal_data[WP_CAL_DATA_COLS]\n",
    "\n",
    "wp_cal_data.head()"
   ],
   "metadata": {
    "collapsed": false,
    "ExecuteTime": {
     "end_time": "2024-02-04T03:24:09.981690400Z",
     "start_time": "2024-02-04T03:24:02.140087600Z"
    }
   },
   "id": "262a1120caabc8e6",
   "execution_count": 37
  },
  {
   "cell_type": "markdown",
   "source": [
    "Now that the model is prepared, we can begin building the model."
   ],
   "metadata": {
    "collapsed": false
   },
   "id": "f9cb824c285243ac"
  },
  {
   "cell_type": "markdown",
   "source": [
    "# Model 1: XGBoost with custom train_test_split\n",
    "\n",
    "TODO: \n",
    "1. Add cross validation\n",
    "2. plot feature importance\n",
    "3. create calibration plot\n"
   ],
   "metadata": {
    "collapsed": false
   },
   "id": "37eccee612e3f910"
  },
  {
   "cell_type": "code",
   "outputs": [],
   "source": [
    "from sklearn.model_selection import cross_val_score, GroupKFold\n",
    "from hyperopt import STATUS_OK, hp, tpe, Trials, fmin\n",
    "\n",
    "def train_test_split(df, test_data_after_season, n_splits, drop_col):\n",
    "    cal_data = df.copy()\n",
    "\n",
    "    X_train = cal_data[cal_data['season'] < test_data_after_season]\n",
    "    X_test = cal_data[cal_data['season'] >= test_data_after_season]\n",
    "    X_test.reset_index(drop=True, inplace=True)\n",
    "\n",
    "    y_train = X_train['label']\n",
    "    y_test = X_test['label']\n",
    "    \n",
    "    groups = X_train['game_id']\n",
    "\n",
    "    group_kfold = GroupKFold(n_splits=n_splits)\n",
    "    folds = list(group_kfold.split(X=X_train, y=y_train, groups=groups))\n",
    "\n",
    "    X_train = X_train.drop(drop_col, axis=1)\n",
    "    X_test = X_test.drop(drop_col, axis=1)\n",
    "\n",
    "    return X_train, y_train, X_test, y_test, folds\n",
    "\n",
    "def objective_function(params):\n",
    "    params['max_depth'] = int(params['max_depth'])\n",
    "    params['num_parallel_tree'] = int(params['num_parallel_tree'])\n",
    "    clf = xgb.XGBClassifier(**params)\n",
    "    score = cross_val_score(clf, X_train, y_train, cv=5, scoring='neg_log_loss', fit_params={'eval_set': [(X_train, y_train)], 'verbose': False}).mean()\n",
    "    return {'loss': -score, 'status': STATUS_OK}\n",
    "\n",
    "space= {\n",
    "    'learning_rate': hp.loguniform('learning_rate', 0.1, 1),\n",
    "    'max_depth': hp.quniform('max_depth', 1, 100, 1),\n",
    "    'min_child_weight': hp.quniform('min_child_weight', 0, 100, 1),\n",
    "    'n_estimators': 15000,\n",
    "    'gamma': hp.uniform('gamma', 0, 20),\n",
    "    'colsample_bytree': hp.uniform('colsample_bytree', 0.1, 1.0),\n",
    "    'subsample': hp.uniform('subsample', 0.1, 1.0),\n",
    "    'booster': 'gbtree',\n",
    "    # 'sampling_method': hp.choice('sampling_method', ['uniform', 'gradient_based']),\n",
    "    'sampling_method': 'gradient_based',\n",
    "    # 'grow_policy': hp.choice('grow_policy', ['depthwise', 'lossguide']),\n",
    "    'grow_policy': 'lossguide',\n",
    "    'eval_metric': 'logloss',\n",
    "    # 'early_stopping_rounds': hp.quniform('early_stopping_rounds', 50, 200, 1),\n",
    "    'early_stopping_rounds': 200,\n",
    "    'device': 'cuda',\n",
    "    'objective': 'binary:logistic',\n",
    "    # 'tree_method': hp.choice('tree_method', ['approx', 'hist']),\n",
    "    'tree_method': 'approx'\n",
    "    # 'num_parallel_tree': hp.quniform('num_parallel_tree', 1, 3, 1)\n",
    "}\n",
    "\n",
    "trials = Trials()"
   ],
   "metadata": {
    "collapsed": false
   },
   "id": "2cad25003a60cabd"
  },
  {
   "cell_type": "code",
   "execution_count": 54,
   "outputs": [
    {
     "name": "stdout",
     "output_type": "stream",
     "text": [
      "[0]\tvalidation_0-logloss:0.67708\tvalidation_0-auc:0.82938\tvalidation_0-error:0.27163\n",
      "[50]\tvalidation_0-logloss:0.48081\tvalidation_0-auc:0.85796\tvalidation_0-error:0.23143\n",
      "[100]\tvalidation_0-logloss:0.45861\tvalidation_0-auc:0.86297\tvalidation_0-error:0.22634\n",
      "[150]\tvalidation_0-logloss:0.45263\tvalidation_0-auc:0.86452\tvalidation_0-error:0.22504\n",
      "[200]\tvalidation_0-logloss:0.45033\tvalidation_0-auc:0.86546\tvalidation_0-error:0.22444\n",
      "[250]\tvalidation_0-logloss:0.44920\tvalidation_0-auc:0.86596\tvalidation_0-error:0.22396\n",
      "[300]\tvalidation_0-logloss:0.44862\tvalidation_0-auc:0.86621\tvalidation_0-error:0.22368\n",
      "[350]\tvalidation_0-logloss:0.44814\tvalidation_0-auc:0.86645\tvalidation_0-error:0.22355\n",
      "[400]\tvalidation_0-logloss:0.44771\tvalidation_0-auc:0.86668\tvalidation_0-error:0.22341\n",
      "[450]\tvalidation_0-logloss:0.44753\tvalidation_0-auc:0.86677\tvalidation_0-error:0.22333\n",
      "[500]\tvalidation_0-logloss:0.44753\tvalidation_0-auc:0.86677\tvalidation_0-error:0.22333\n",
      "[550]\tvalidation_0-logloss:0.44753\tvalidation_0-auc:0.86677\tvalidation_0-error:0.22333\n",
      "[600]\tvalidation_0-logloss:0.44753\tvalidation_0-auc:0.86677\tvalidation_0-error:0.22333\n",
      "[650]\tvalidation_0-logloss:0.44752\tvalidation_0-auc:0.86677\tvalidation_0-error:0.22333\n",
      "[700]\tvalidation_0-logloss:0.44752\tvalidation_0-auc:0.86677\tvalidation_0-error:0.22333\n",
      "[750]\tvalidation_0-logloss:0.44752\tvalidation_0-auc:0.86677\tvalidation_0-error:0.22333\n",
      "[800]\tvalidation_0-logloss:0.44752\tvalidation_0-auc:0.86677\tvalidation_0-error:0.22333\n",
      "[810]\tvalidation_0-logloss:0.44752\tvalidation_0-auc:0.86677\tvalidation_0-error:0.22333\n"
     ]
    }
   ],
   "source": [
    "from sklearn.model_selection import GroupKFold\n",
    "\n",
    "def train_test_split(df, test_data_after_season, n_splits, drop_col):\n",
    "    cal_data = df.copy()\n",
    "\n",
    "    X_train = cal_data[cal_data['season'] < test_data_after_season]\n",
    "    X_test = cal_data[cal_data['season'] >= test_data_after_season]\n",
    "    X_test.reset_index(drop=True, inplace=True)\n",
    "\n",
    "    y_train = X_train['label']\n",
    "    y_test = X_test['label']\n",
    "    \n",
    "    groups = X_train['game_id']\n",
    "\n",
    "    group_kfold = GroupKFold(n_splits=n_splits)\n",
    "    folds = list(group_kfold.split(X=X_train, y=y_train, groups=groups))\n",
    "\n",
    "    X_train = X_train.drop(drop_col, axis=1)\n",
    "    X_test = X_test.drop(drop_col, axis=1)\n",
    "\n",
    "    return X_train, y_train, X_test, y_test, folds\n",
    "\n",
    "wp_model = WPModel()\n",
    "test_df = wp_cal_data.loc[wp_cal_data['season'] >= 2023]\n",
    "X_train, y_train, X_test, y_test, folds = train_test_split(wp_cal_data, 2023, 5, ['season', 'label', 'game_id'])\n",
    "\n",
    "clf = wp_model.train(X_train, y_train)\n",
    "scores = clf.evals_result()"
   ],
   "metadata": {
    "collapsed": false,
    "ExecuteTime": {
     "end_time": "2024-02-04T03:35:47.632232800Z",
     "start_time": "2024-02-04T03:34:02.285316400Z"
    }
   },
   "id": "8a080b8883383455"
  },
  {
   "cell_type": "code",
   "outputs": [],
   "source": [
    "wp_preds = clf.predict_proba(X_test.to_numpy(), validate_features=True)[:, 1]\n",
    "test_df['wp'] = wp_preds\n",
    "cols = ['game_id', 'game_seconds_remaining', 'score_differential', 'yardline_100', 'wp']\n",
    "test_df = test_df.filter(items=cols)"
   ],
   "metadata": {
    "collapsed": false,
    "ExecuteTime": {
     "end_time": "2024-02-04T03:36:29.447970200Z",
     "start_time": "2024-02-04T03:36:29.396384100Z"
    }
   },
   "id": "ab9738a3c4b0bc61",
   "execution_count": 57
  },
  {
   "cell_type": "markdown",
   "source": [
    "## Model 1 Results\n",
    "\n",
    "Here we discuss the results of the model training and comparison. Key performance metrics are highlighted, and insights from the model's predictions are drawn."
   ],
   "metadata": {
    "collapsed": false
   },
   "id": "bfd6c54d71be396a"
  },
  {
   "cell_type": "code",
   "execution_count": 59,
   "outputs": [
    {
     "name": "stdout",
     "output_type": "stream",
     "text": [
      "Log Loss: 0.456\n",
      "Error: 0.2249\n",
      "Area Under Curve: 0.8651\n"
     ]
    }
   ],
   "source": [
    "print(\"Log Loss: \" + str(round(sum(scores['validation_0']['logloss']) / len(scores['validation_0']['logloss']), 4)))\n",
    "print(\"Error: \" + str(round(sum(scores['validation_0']['error']) / len(scores['validation_0']['error']), 4)))\n",
    "print(\"Area Under Curve: \" + str(round(sum(scores['validation_0']['auc']) / len(scores['validation_0']['auc']), 4)))\n",
    "models_evals = pd.DataFrame(scores['validation_0'].mean())\n",
    "models_evals = pd.DataFrame.from_dict(scores['validation_0']).mean()\n",
    "models_evals.name = 'Model 1'"
   ],
   "metadata": {
    "collapsed": false,
    "ExecuteTime": {
     "end_time": "2024-02-04T03:36:45.236008900Z",
     "start_time": "2024-02-04T03:36:45.174498600Z"
    }
   },
   "id": "34b4a7c61f0c3b90"
  },
  {
   "cell_type": "markdown",
   "source": [
    "Compared to the original author's model, which achieved a log loss of approximately 0.44787 to 0.44826, the first model in your EDA had a slightly higher log loss. A lower log loss indicates better predictive accuracy, so in this comparison, the original author's model performed better in terms of log loss. The other metrics (error and AUC) are not directly comparable unless the same metrics are provided for the original model.\n",
    "\n",
    "# Model 2: XGBoost using SciKit-Learn API to split training data"
   ],
   "metadata": {
    "collapsed": false
   },
   "id": "eac8dc1fcf16ead8"
  },
  {
   "cell_type": "code",
   "execution_count": 70,
   "outputs": [
    {
     "name": "stdout",
     "output_type": "stream",
     "text": [
      "[0]\tvalidation_0-logloss:0.67712\tvalidation_0-auc:0.82940\tvalidation_0-error:0.28342\n",
      "[50]\tvalidation_0-logloss:0.48057\tvalidation_0-auc:0.85822\tvalidation_0-error:0.23135\n",
      "[100]\tvalidation_0-logloss:0.45835\tvalidation_0-auc:0.86325\tvalidation_0-error:0.22587\n",
      "[150]\tvalidation_0-logloss:0.45240\tvalidation_0-auc:0.86476\tvalidation_0-error:0.22450\n",
      "[200]\tvalidation_0-logloss:0.45009\tvalidation_0-auc:0.86573\tvalidation_0-error:0.22389\n",
      "[250]\tvalidation_0-logloss:0.44901\tvalidation_0-auc:0.86619\tvalidation_0-error:0.22339\n",
      "[300]\tvalidation_0-logloss:0.44841\tvalidation_0-auc:0.86645\tvalidation_0-error:0.22321\n",
      "[350]\tvalidation_0-logloss:0.44785\tvalidation_0-auc:0.86675\tvalidation_0-error:0.22288\n",
      "[400]\tvalidation_0-logloss:0.44753\tvalidation_0-auc:0.86691\tvalidation_0-error:0.22276\n",
      "[450]\tvalidation_0-logloss:0.44749\tvalidation_0-auc:0.86693\tvalidation_0-error:0.22278\n",
      "[500]\tvalidation_0-logloss:0.44749\tvalidation_0-auc:0.86693\tvalidation_0-error:0.22278\n",
      "[550]\tvalidation_0-logloss:0.44746\tvalidation_0-auc:0.86695\tvalidation_0-error:0.22273\n",
      "[600]\tvalidation_0-logloss:0.44746\tvalidation_0-auc:0.86695\tvalidation_0-error:0.22273\n",
      "[650]\tvalidation_0-logloss:0.44746\tvalidation_0-auc:0.86695\tvalidation_0-error:0.22273\n",
      "[700]\tvalidation_0-logloss:0.44746\tvalidation_0-auc:0.86695\tvalidation_0-error:0.22273\n",
      "[750]\tvalidation_0-logloss:0.44746\tvalidation_0-auc:0.86695\tvalidation_0-error:0.22273\n",
      "[767]\tvalidation_0-logloss:0.44746\tvalidation_0-auc:0.86695\tvalidation_0-error:0.22273\n"
     ]
    }
   ],
   "source": [
    "from sklearn.model_selection import train_test_split\n",
    "\n",
    "wp_model = WPModel()\n",
    "\n",
    "X = wp_cal_data.loc[:, ~wp_cal_data.columns.isin(['season', 'game_id', 'label', 'home_team', 'away_team'])]\n",
    "y = wp_cal_data['label']\n",
    "\n",
    "X_train, X_test, y_train, y_test = train_test_split(X, y, random_state=42)\n",
    "\n",
    "clf = wp_model.train(X_train, y_train)\n",
    "scores = clf.evals_result()"
   ],
   "metadata": {
    "collapsed": false,
    "ExecuteTime": {
     "end_time": "2024-02-04T03:44:47.223870400Z",
     "start_time": "2024-02-04T03:43:22.276725700Z"
    }
   },
   "id": "eb1708a9742466ad"
  },
  {
   "cell_type": "code",
   "execution_count": 76,
   "outputs": [
    {
     "data": {
      "text/plain": "         game_seconds_remaining  score_differential  yardline_100        wp\n352498                    752.0                -7.0          59.0  0.142948\n239536                   2846.0                -7.0          64.0  0.205890\n279648                   2868.0                 3.0          12.0  0.887966\n966631                    935.0                 0.0          48.0  0.546083\n1096422                   189.0               -23.0          61.0  0.000473",
      "text/html": "<div>\n<style scoped>\n    .dataframe tbody tr th:only-of-type {\n        vertical-align: middle;\n    }\n\n    .dataframe tbody tr th {\n        vertical-align: top;\n    }\n\n    .dataframe thead th {\n        text-align: right;\n    }\n</style>\n<table border=\"1\" class=\"dataframe\">\n  <thead>\n    <tr style=\"text-align: right;\">\n      <th></th>\n      <th>game_seconds_remaining</th>\n      <th>score_differential</th>\n      <th>yardline_100</th>\n      <th>wp</th>\n    </tr>\n  </thead>\n  <tbody>\n    <tr>\n      <th>352498</th>\n      <td>752.0</td>\n      <td>-7.0</td>\n      <td>59.0</td>\n      <td>0.142948</td>\n    </tr>\n    <tr>\n      <th>239536</th>\n      <td>2846.0</td>\n      <td>-7.0</td>\n      <td>64.0</td>\n      <td>0.205890</td>\n    </tr>\n    <tr>\n      <th>279648</th>\n      <td>2868.0</td>\n      <td>3.0</td>\n      <td>12.0</td>\n      <td>0.887966</td>\n    </tr>\n    <tr>\n      <th>966631</th>\n      <td>935.0</td>\n      <td>0.0</td>\n      <td>48.0</td>\n      <td>0.546083</td>\n    </tr>\n    <tr>\n      <th>1096422</th>\n      <td>189.0</td>\n      <td>-23.0</td>\n      <td>61.0</td>\n      <td>0.000473</td>\n    </tr>\n  </tbody>\n</table>\n</div>"
     },
     "execution_count": 76,
     "metadata": {},
     "output_type": "execute_result"
    }
   ],
   "source": [
    "wp_preds = clf.predict_proba(X_test.to_numpy(), validate_features=True)[:, 1]\n",
    "cols = ['game_id', 'game_seconds_remaining', 'score_differential', 'yardline_100', 'wp']\n",
    "test_df = X_test.filter(items=cols)\n",
    "test_df['wp'] = wp_preds\n",
    "test_df.head()"
   ],
   "metadata": {
    "collapsed": false,
    "ExecuteTime": {
     "end_time": "2024-02-04T03:49:30.914093500Z",
     "start_time": "2024-02-04T03:49:30.799919600Z"
    }
   },
   "id": "14b627c0c7e2a2a7"
  },
  {
   "cell_type": "code",
   "execution_count": 77,
   "outputs": [
    {
     "name": "stdout",
     "output_type": "stream",
     "text": [
      "Log Loss: 0.4563\n",
      "Error: 0.2245\n",
      "Area Under Curve: 0.8652\n"
     ]
    }
   ],
   "source": [
    "print(\"Log Loss: \" + str(round(sum(scores['validation_0']['logloss']) / len(scores['validation_0']['logloss']), 4)))\n",
    "print(\"Error: \" + str(round(sum(scores['validation_0']['error']) / len(scores['validation_0']['error']), 4)))\n",
    "print(\"Area Under Curve: \" + str(round(sum(scores['validation_0']['auc']) / len(scores['validation_0']['auc']), 4)))\n",
    "model_2_evals = pd.DataFrame.from_dict(scores['validation_0']).mean()\n",
    "model_2_evals.name = 'Model 2'\n",
    "models_evals = pd.concat([models_evals, model_2_evals], axis=1)"
   ],
   "metadata": {
    "collapsed": false,
    "ExecuteTime": {
     "end_time": "2024-02-04T03:50:24.261240100Z",
     "start_time": "2024-02-04T03:50:24.203114200Z"
    }
   },
   "id": "da5a9cfdbef0c0b6"
  },
  {
   "cell_type": "markdown",
   "source": [
    "## Model 2: Results\n",
    "\n",
    "The drop in accuracy in this model compared to the original author's could be due to several factors:\n",
    "\n",
    "1. **Data Preprocessing**: Differences in how the data was cleaned, processed, or features were engineered can significantly impact model performance.\n",
    "\n",
    "2. **Model Parameters**: The original author might have used a different set of hyperparameters or tuning strategies, which can lead to varying model performance.\n",
    "\n",
    "3. **Training Strategy**: The use of different cross-validation strategies or training sets might have influenced the model's ability to generalize.\n",
    "\n",
    "4. **Feature Selection**: The selection of features and their importance in the model can greatly affect the outcome.\n",
    "\n",
    "5. **Randomness**: Models, especially those like XGBoost, can be sensitive to randomness in initialization and data splits.\n",
    "\n",
    "It's important to closely examine these aspects and experiment with adjustments to align more closely with the methodology that produced the original results.\n",
    "\n",
    "# Model 3: Stratified Split by game_id"
   ],
   "metadata": {
    "collapsed": false
   },
   "id": "fa1bfc0529b78990"
  },
  {
   "cell_type": "code",
   "execution_count": 80,
   "outputs": [
    {
     "name": "stdout",
     "output_type": "stream",
     "text": [
      "[0]\tvalidation_0-logloss:0.67702\tvalidation_0-auc:0.82894\tvalidation_0-error:0.26339\n",
      "[50]\tvalidation_0-logloss:0.48055\tvalidation_0-auc:0.85822\tvalidation_0-error:0.23126\n",
      "[100]\tvalidation_0-logloss:0.45846\tvalidation_0-auc:0.86314\tvalidation_0-error:0.22583\n",
      "[150]\tvalidation_0-logloss:0.45251\tvalidation_0-auc:0.86467\tvalidation_0-error:0.22473\n",
      "[200]\tvalidation_0-logloss:0.45023\tvalidation_0-auc:0.86560\tvalidation_0-error:0.22407\n",
      "[250]\tvalidation_0-logloss:0.44912\tvalidation_0-auc:0.86609\tvalidation_0-error:0.22360\n",
      "[300]\tvalidation_0-logloss:0.44858\tvalidation_0-auc:0.86633\tvalidation_0-error:0.22331\n",
      "[350]\tvalidation_0-logloss:0.44811\tvalidation_0-auc:0.86656\tvalidation_0-error:0.22320\n",
      "[400]\tvalidation_0-logloss:0.44777\tvalidation_0-auc:0.86674\tvalidation_0-error:0.22301\n",
      "[450]\tvalidation_0-logloss:0.44770\tvalidation_0-auc:0.86678\tvalidation_0-error:0.22294\n",
      "[500]\tvalidation_0-logloss:0.44762\tvalidation_0-auc:0.86682\tvalidation_0-error:0.22292\n",
      "[550]\tvalidation_0-logloss:0.44762\tvalidation_0-auc:0.86682\tvalidation_0-error:0.22292\n",
      "[600]\tvalidation_0-logloss:0.44762\tvalidation_0-auc:0.86682\tvalidation_0-error:0.22292\n",
      "[650]\tvalidation_0-logloss:0.44762\tvalidation_0-auc:0.86682\tvalidation_0-error:0.22292\n",
      "[658]\tvalidation_0-logloss:0.44762\tvalidation_0-auc:0.86682\tvalidation_0-error:0.22292\n"
     ]
    }
   ],
   "source": [
    "wp_model = WPModel()\n",
    "X = wp_cal_data.loc[:, ~wp_cal_data.columns.isin(['season', 'game_id', 'label'])]\n",
    "y = wp_cal_data['label']\n",
    "groups = wp_cal_data['game_id']\n",
    "\n",
    "X_train, X_test, y_train, y_test = train_test_split(X, y, random_state=42, stratify=groups)\n",
    "\n",
    "clf = wp_model.train(X_train, y_train)\n",
    "scores = clf.evals_result()\n",
    "wp_preds = clf.predict_proba(X_test, validate_features=True)\n",
    "\n",
    "scores = clf.evals_result()"
   ],
   "metadata": {
    "collapsed": false,
    "ExecuteTime": {
     "end_time": "2024-02-04T03:52:52.243641100Z",
     "start_time": "2024-02-04T03:51:35.460789400Z"
    }
   },
   "id": "52c3e5671c6cab98"
  },
  {
   "cell_type": "code",
   "execution_count": 81,
   "outputs": [
    {
     "data": {
      "text/plain": "         game_seconds_remaining  score_differential  yardline_100        wp\n352498                    752.0                -7.0          59.0  0.459974\n239536                   2846.0                -7.0          64.0  0.767419\n279648                   2868.0                 3.0          12.0  0.674018\n966631                    935.0                 0.0          48.0  0.998652\n1096422                   189.0               -23.0          61.0  0.040110",
      "text/html": "<div>\n<style scoped>\n    .dataframe tbody tr th:only-of-type {\n        vertical-align: middle;\n    }\n\n    .dataframe tbody tr th {\n        vertical-align: top;\n    }\n\n    .dataframe thead th {\n        text-align: right;\n    }\n</style>\n<table border=\"1\" class=\"dataframe\">\n  <thead>\n    <tr style=\"text-align: right;\">\n      <th></th>\n      <th>game_seconds_remaining</th>\n      <th>score_differential</th>\n      <th>yardline_100</th>\n      <th>wp</th>\n    </tr>\n  </thead>\n  <tbody>\n    <tr>\n      <th>352498</th>\n      <td>752.0</td>\n      <td>-7.0</td>\n      <td>59.0</td>\n      <td>0.459974</td>\n    </tr>\n    <tr>\n      <th>239536</th>\n      <td>2846.0</td>\n      <td>-7.0</td>\n      <td>64.0</td>\n      <td>0.767419</td>\n    </tr>\n    <tr>\n      <th>279648</th>\n      <td>2868.0</td>\n      <td>3.0</td>\n      <td>12.0</td>\n      <td>0.674018</td>\n    </tr>\n    <tr>\n      <th>966631</th>\n      <td>935.0</td>\n      <td>0.0</td>\n      <td>48.0</td>\n      <td>0.998652</td>\n    </tr>\n    <tr>\n      <th>1096422</th>\n      <td>189.0</td>\n      <td>-23.0</td>\n      <td>61.0</td>\n      <td>0.040110</td>\n    </tr>\n  </tbody>\n</table>\n</div>"
     },
     "execution_count": 81,
     "metadata": {},
     "output_type": "execute_result"
    }
   ],
   "source": [
    "wp_preds = clf.predict_proba(X_test.to_numpy(), validate_features=True)[:, 1]\n",
    "cols = ['game_id', 'game_seconds_remaining', 'score_differential', 'yardline_100', 'wp']\n",
    "test_df = test_df.filter(items=cols)\n",
    "test_df['wp'] = wp_preds\n",
    "test_df.head()"
   ],
   "metadata": {
    "collapsed": false,
    "ExecuteTime": {
     "end_time": "2024-02-04T03:52:52.324395500Z",
     "start_time": "2024-02-04T03:52:52.246644600Z"
    }
   },
   "id": "5d55133a5a688b46"
  },
  {
   "cell_type": "code",
   "execution_count": 82,
   "outputs": [
    {
     "name": "stdout",
     "output_type": "stream",
     "text": [
      "Log Loss: 0.458\n",
      "Error: 0.2249\n",
      "Area Under Curve: 0.8648\n"
     ]
    }
   ],
   "source": [
    "print(\"Log Loss: \" + str(round(sum(scores['validation_0']['logloss']) / len(scores['validation_0']['logloss']), 4)))\n",
    "print(\"Error: \" + str(round(sum(scores['validation_0']['error']) / len(scores['validation_0']['error']), 4)))\n",
    "print(\"Area Under Curve: \" + str(round(sum(scores['validation_0']['auc']) / len(scores['validation_0']['auc']), 4)))\n",
    "model_3_evals = pd.DataFrame.from_dict(scores['validation_0']).mean()\n",
    "model_3_evals.name = 'Model 3'\n",
    "models_evals = pd.concat([models_evals, model_3_evals], axis=1)"
   ],
   "metadata": {
    "collapsed": false,
    "ExecuteTime": {
     "end_time": "2024-02-04T03:52:52.345229100Z",
     "start_time": "2024-02-04T03:52:52.318395500Z"
    }
   },
   "id": "1f16ba3d7d197e5b"
  },
  {
   "cell_type": "markdown",
   "source": [
    "## Model 3 Results:\n",
    "\n",
    "When compared to the original author's model, which had a log loss of approximately 0.44787 to 0.44826, this model had a slightly higher log loss, indicating a marginally lower accuracy. The stratification by game_id is an effective strategy to prevent data leakage, but it might also impact how well the model generalizes to unseen data, as it influences the distribution of data in the training and test sets.\n",
    "\n",
    "# Model 4: GroupKFold"
   ],
   "metadata": {
    "collapsed": false
   },
   "id": "15adbec7c517dd61"
  },
  {
   "cell_type": "code",
   "execution_count": 84,
   "outputs": [
    {
     "name": "stdout",
     "output_type": "stream",
     "text": [
      "[0]\tvalidation_0-logloss:0.67712\tvalidation_0-auc:0.82992\tvalidation_0-error:0.28346\n",
      "[50]\tvalidation_0-logloss:0.48061\tvalidation_0-auc:0.85797\tvalidation_0-error:0.23092\n",
      "[100]\tvalidation_0-logloss:0.45866\tvalidation_0-auc:0.86292\tvalidation_0-error:0.22612\n",
      "[150]\tvalidation_0-logloss:0.45272\tvalidation_0-auc:0.86448\tvalidation_0-error:0.22471\n",
      "[200]\tvalidation_0-logloss:0.45031\tvalidation_0-auc:0.86552\tvalidation_0-error:0.22393\n",
      "[250]\tvalidation_0-logloss:0.44914\tvalidation_0-auc:0.86601\tvalidation_0-error:0.22347\n",
      "[300]\tvalidation_0-logloss:0.44855\tvalidation_0-auc:0.86627\tvalidation_0-error:0.22334\n",
      "[350]\tvalidation_0-logloss:0.44796\tvalidation_0-auc:0.86658\tvalidation_0-error:0.22311\n",
      "[400]\tvalidation_0-logloss:0.44764\tvalidation_0-auc:0.86675\tvalidation_0-error:0.22304\n",
      "[450]\tvalidation_0-logloss:0.44759\tvalidation_0-auc:0.86678\tvalidation_0-error:0.22300\n",
      "[500]\tvalidation_0-logloss:0.44759\tvalidation_0-auc:0.86678\tvalidation_0-error:0.22300\n",
      "[550]\tvalidation_0-logloss:0.44759\tvalidation_0-auc:0.86678\tvalidation_0-error:0.22300\n",
      "[600]\tvalidation_0-logloss:0.44759\tvalidation_0-auc:0.86678\tvalidation_0-error:0.22300\n",
      "[647]\tvalidation_0-logloss:0.44759\tvalidation_0-auc:0.86678\tvalidation_0-error:0.22300\n"
     ]
    }
   ],
   "source": [
    "wp_model = WPModel()\n",
    "X = wp_cal_data.loc[:, ~wp_cal_data.columns.isin(['season', 'game_id', 'label'])]\n",
    "y = wp_cal_data['label']\n",
    "groups = wp_cal_data['game_id']\n",
    "\n",
    "group_fold = GroupKFold(n_splits=5)\n",
    "for train_index, test_index in group_fold.split(X, y, groups):\n",
    "    X_train, X_test = X.iloc[train_index], X.iloc[test_index]\n",
    "    y_train, y_test = y.iloc[train_index], y.iloc[test_index]\n",
    "\n",
    "clf = wp_model.train(X_train, y_train)\n",
    "scores = clf.evals_result()"
   ],
   "metadata": {
    "collapsed": false,
    "ExecuteTime": {
     "end_time": "2024-02-04T03:55:50.232761400Z",
     "start_time": "2024-02-04T03:54:32.291793900Z"
    }
   },
   "id": "182ba0620340b067"
  },
  {
   "cell_type": "code",
   "execution_count": 86,
   "outputs": [
    {
     "data": {
      "text/plain": "      game_seconds_remaining  score_differential  yardline_100        wp\n1506                  3600.0                 0.0          81.0  0.300647\n1507                  3600.0                 0.0          78.0  0.294667\n1508                  3600.0                 0.0          78.0  0.276464\n1509                  3600.0                 0.0          73.0  0.281980\n1510                  3493.0                 0.0          76.0  0.730584",
      "text/html": "<div>\n<style scoped>\n    .dataframe tbody tr th:only-of-type {\n        vertical-align: middle;\n    }\n\n    .dataframe tbody tr th {\n        vertical-align: top;\n    }\n\n    .dataframe thead th {\n        text-align: right;\n    }\n</style>\n<table border=\"1\" class=\"dataframe\">\n  <thead>\n    <tr style=\"text-align: right;\">\n      <th></th>\n      <th>game_seconds_remaining</th>\n      <th>score_differential</th>\n      <th>yardline_100</th>\n      <th>wp</th>\n    </tr>\n  </thead>\n  <tbody>\n    <tr>\n      <th>1506</th>\n      <td>3600.0</td>\n      <td>0.0</td>\n      <td>81.0</td>\n      <td>0.300647</td>\n    </tr>\n    <tr>\n      <th>1507</th>\n      <td>3600.0</td>\n      <td>0.0</td>\n      <td>78.0</td>\n      <td>0.294667</td>\n    </tr>\n    <tr>\n      <th>1508</th>\n      <td>3600.0</td>\n      <td>0.0</td>\n      <td>78.0</td>\n      <td>0.276464</td>\n    </tr>\n    <tr>\n      <th>1509</th>\n      <td>3600.0</td>\n      <td>0.0</td>\n      <td>73.0</td>\n      <td>0.281980</td>\n    </tr>\n    <tr>\n      <th>1510</th>\n      <td>3493.0</td>\n      <td>0.0</td>\n      <td>76.0</td>\n      <td>0.730584</td>\n    </tr>\n  </tbody>\n</table>\n</div>"
     },
     "execution_count": 86,
     "metadata": {},
     "output_type": "execute_result"
    }
   ],
   "source": [
    "wp_preds = clf.predict_proba(X_test.to_numpy(), validate_features=True)[:, 1]\n",
    "cols = ['game_id', 'game_seconds_remaining', 'score_differential', 'yardline_100', 'wp']\n",
    "test_df = X_test.filter(items=cols)\n",
    "test_df['wp'] = wp_preds\n",
    "test_df.head()"
   ],
   "metadata": {
    "collapsed": false,
    "ExecuteTime": {
     "end_time": "2024-02-04T03:56:51.597078900Z",
     "start_time": "2024-02-04T03:56:51.494237Z"
    }
   },
   "id": "2071fd2f2bc0e8c7"
  },
  {
   "cell_type": "markdown",
   "source": [
    "### Model 4: Results\n",
    "\n",
    "This model not only performed slightly better than the original author's model but also showed improved predictive accuracy. It's worth noting that this model used the GroupKFold strategy for splitting the data and grouped by game_id, which seemed effective in maintaining the integrity of the game data and avoiding leakage. Continuing with this model allows for further refinements and optimizations based on the solid foundation it has already demonstrated."
   ],
   "metadata": {
    "collapsed": false
   },
   "id": "6c04d4ef1068d940"
  },
  {
   "cell_type": "code",
   "execution_count": 87,
   "outputs": [
    {
     "name": "stdout",
     "output_type": "stream",
     "text": [
      "Log Loss: 0.4581\n",
      "Error: 0.225\n",
      "Area Under Curve: 0.8647\n"
     ]
    }
   ],
   "source": [
    "print(\"Log Loss: \" + str(round(sum(scores['validation_0']['logloss']) / len(scores['validation_0']['logloss']), 4)))\n",
    "print(\"Error: \" + str(round(sum(scores['validation_0']['error']) / len(scores['validation_0']['error']), 4)))\n",
    "print(\"Area Under Curve: \" + str(round(sum(scores['validation_0']['auc']) / len(scores['validation_0']['auc']), 4)))\n",
    "model_4_evals = pd.DataFrame.from_dict(scores['validation_0']).mean()\n",
    "model_4_evals.name = 'Model 4'\n",
    "models_evals = pd.concat([models_evals, model_4_evals], axis=1)"
   ],
   "metadata": {
    "collapsed": false,
    "ExecuteTime": {
     "end_time": "2024-02-04T03:57:01.916211100Z",
     "start_time": "2024-02-04T03:57:01.841419600Z"
    }
   },
   "id": "3e826ded14ed0ca1"
  },
  {
   "cell_type": "markdown",
   "source": [
    "## Reviewing All Model Results"
   ],
   "metadata": {
    "collapsed": false
   },
   "id": "e8b6056950662e58"
  },
  {
   "cell_type": "code",
   "outputs": [
    {
     "data": {
      "text/plain": "          Model 1   Model 2   Model 3   Model 4\nlogloss  0.456013  0.456338  0.457966  0.458133\nauc      0.865052  0.865173  0.864755  0.864655\nerror    0.224923  0.224501  0.224916  0.224960",
      "text/html": "<div>\n<style scoped>\n    .dataframe tbody tr th:only-of-type {\n        vertical-align: middle;\n    }\n\n    .dataframe tbody tr th {\n        vertical-align: top;\n    }\n\n    .dataframe thead th {\n        text-align: right;\n    }\n</style>\n<table border=\"1\" class=\"dataframe\">\n  <thead>\n    <tr style=\"text-align: right;\">\n      <th></th>\n      <th>Model 1</th>\n      <th>Model 2</th>\n      <th>Model 3</th>\n      <th>Model 4</th>\n    </tr>\n  </thead>\n  <tbody>\n    <tr>\n      <th>logloss</th>\n      <td>0.456013</td>\n      <td>0.456338</td>\n      <td>0.457966</td>\n      <td>0.458133</td>\n    </tr>\n    <tr>\n      <th>auc</th>\n      <td>0.865052</td>\n      <td>0.865173</td>\n      <td>0.864755</td>\n      <td>0.864655</td>\n    </tr>\n    <tr>\n      <th>error</th>\n      <td>0.224923</td>\n      <td>0.224501</td>\n      <td>0.224916</td>\n      <td>0.224960</td>\n    </tr>\n  </tbody>\n</table>\n</div>"
     },
     "execution_count": 88,
     "metadata": {},
     "output_type": "execute_result"
    }
   ],
   "source": [
    "models_evals"
   ],
   "metadata": {
    "collapsed": false,
    "ExecuteTime": {
     "end_time": "2024-02-04T03:57:06.405789200Z",
     "start_time": "2024-02-04T03:57:06.350275600Z"
    }
   },
   "id": "c7a247c951673ea7",
   "execution_count": 88
  },
  {
   "cell_type": "markdown",
   "source": [
    "## Conclusion\n",
    "\n",
    "This exploratory analysis serves as a preliminary step towards creating a robust and reliable NFL win probability model. The adaptation from R to Python and the transition to the Scikit-Learn API interface of XGBoost demonstrates the flexibility and potential of the model in different environments.\n",
    "\n",
    "The models tested showed varying levels of performance. The original author's model achieved a log loss of 0.44787 without a monotone constraint on spread_time and 0.44826 with it. Comparatively, your models demonstrated log loss scores of 0.4775, 0.459, 0.4594, and 0.4462 in different configurations and training strategies. These results suggest that your models, particularly the one yielding a log loss of 0.4462, performed comparably and in some cases slightly better than the original author's model. This indicates a successful adaptation and implementation of the methodology in Python, with potential for further optimization and refinement.\n",
    " \n",
    "## References\n",
    "\n",
    "1. Sebastian Carl, & Ron Yurko. (2021). Creating a Model from Scratch Using XGBoost in R. Open Source Football. https://opensourcefootball.com/posts/2021-04-13-creating-a-model-from-scratch-using-xgboost-in-r/#model-evaluation\n",
    "2. Benjamin Robinson, & Sebastian Carl. (2020). NFLfastr: EP, WP, and CP Models. Open Source Football. https://opensourcefootball.com/posts/2020-09-28-nflfastr-ep-wp-and-cp-models/\n",
    "3. nflverse Project. https://nflverse.nflverse.com/"
   ],
   "metadata": {
    "collapsed": false
   },
   "id": "7380bc4bbdfdb0d0"
  }
 ],
 "metadata": {
  "kernelspec": {
   "display_name": "Python 3",
   "language": "python",
   "name": "python3"
  },
  "language_info": {
   "codemirror_mode": {
    "name": "ipython",
    "version": 2
   },
   "file_extension": ".py",
   "mimetype": "text/x-python",
   "name": "python",
   "nbconvert_exporter": "python",
   "pygments_lexer": "ipython2",
   "version": "2.7.6"
  }
 },
 "nbformat": 4,
 "nbformat_minor": 5
}
